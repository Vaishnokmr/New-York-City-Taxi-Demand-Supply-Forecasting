{
 "cells": [
  {
   "cell_type": "code",
   "execution_count": 1,
   "metadata": {
    "id": "0cBtpdmgv4yc"
   },
   "outputs": [],
   "source": [
    "import pandas as pd\n",
    "import numpy as np\n",
    "import matplotlib.pyplot as plt\n",
    "import seaborn as sns\n",
    "import warnings\n",
    "warnings.filterwarnings('ignore')\n",
    "import timedelta\n",
    "import scipy.stats as st\n",
    "from geopy.geocoders import ArcGIS"
   ]
  },
  {
   "cell_type": "markdown",
   "metadata": {
    "jp-MarkdownHeadingCollapsed": true,
    "tags": []
   },
   "source": [
    "# Data Preprcessing"
   ]
  },
  {
   "cell_type": "code",
   "execution_count": 2,
   "metadata": {},
   "outputs": [],
   "source": [
    "# zone = pd.read_csv(\"taxi+_zone_lookup.csv\")\n",
    "# nom = ArcGIS(timeout = 5)\n",
    "# lat = []\n",
    "# long = []\n",
    "# for i in zone.Zone:\n",
    "#   lat.append(nom.geocode(i)[1][0])\n",
    "#   long.append(nom.geocode(i)[1][1])\n",
    "# zone['latitude'] = lat\n",
    "# zone['longitude'] = long\n",
    "# zone.to_csv('zone.csv', index=False)\n"
   ]
  },
  {
   "cell_type": "code",
   "execution_count": 3,
   "metadata": {},
   "outputs": [],
   "source": [
    "zone = pd.read_csv('zone.csv').drop(['Unnamed: 0'],axis=1)"
   ]
  },
  {
   "cell_type": "code",
   "execution_count": 4,
   "metadata": {},
   "outputs": [
    {
     "data": {
      "text/html": [
       "<div>\n",
       "<style scoped>\n",
       "    .dataframe tbody tr th:only-of-type {\n",
       "        vertical-align: middle;\n",
       "    }\n",
       "\n",
       "    .dataframe tbody tr th {\n",
       "        vertical-align: top;\n",
       "    }\n",
       "\n",
       "    .dataframe thead th {\n",
       "        text-align: right;\n",
       "    }\n",
       "</style>\n",
       "<table border=\"1\" class=\"dataframe\">\n",
       "  <thead>\n",
       "    <tr style=\"text-align: right;\">\n",
       "      <th></th>\n",
       "      <th>LocationID</th>\n",
       "      <th>Borough</th>\n",
       "      <th>Zone</th>\n",
       "      <th>service_zone</th>\n",
       "      <th>latitude</th>\n",
       "      <th>longitude</th>\n",
       "    </tr>\n",
       "  </thead>\n",
       "  <tbody>\n",
       "    <tr>\n",
       "      <th>0</th>\n",
       "      <td>1</td>\n",
       "      <td>EWR</td>\n",
       "      <td>Newark Airport</td>\n",
       "      <td>EWR</td>\n",
       "      <td>40.692440</td>\n",
       "      <td>-74.182960</td>\n",
       "    </tr>\n",
       "    <tr>\n",
       "      <th>1</th>\n",
       "      <td>2</td>\n",
       "      <td>Queens</td>\n",
       "      <td>Jamaica Bay</td>\n",
       "      <td>Boro Zone</td>\n",
       "      <td>40.603990</td>\n",
       "      <td>-73.835410</td>\n",
       "    </tr>\n",
       "    <tr>\n",
       "      <th>2</th>\n",
       "      <td>3</td>\n",
       "      <td>Bronx</td>\n",
       "      <td>Allerton/Pelham Gardens</td>\n",
       "      <td>Boro Zone</td>\n",
       "      <td>40.865210</td>\n",
       "      <td>-73.843070</td>\n",
       "    </tr>\n",
       "    <tr>\n",
       "      <th>3</th>\n",
       "      <td>4</td>\n",
       "      <td>Manhattan</td>\n",
       "      <td>Alphabet City</td>\n",
       "      <td>Yellow Zone</td>\n",
       "      <td>40.725990</td>\n",
       "      <td>-73.980570</td>\n",
       "    </tr>\n",
       "    <tr>\n",
       "      <th>4</th>\n",
       "      <td>5</td>\n",
       "      <td>Staten Island</td>\n",
       "      <td>Arden Heights</td>\n",
       "      <td>Boro Zone</td>\n",
       "      <td>40.554140</td>\n",
       "      <td>-74.173910</td>\n",
       "    </tr>\n",
       "    <tr>\n",
       "      <th>...</th>\n",
       "      <td>...</td>\n",
       "      <td>...</td>\n",
       "      <td>...</td>\n",
       "      <td>...</td>\n",
       "      <td>...</td>\n",
       "      <td>...</td>\n",
       "    </tr>\n",
       "    <tr>\n",
       "      <th>260</th>\n",
       "      <td>261</td>\n",
       "      <td>Manhattan</td>\n",
       "      <td>World Trade Center</td>\n",
       "      <td>Yellow Zone</td>\n",
       "      <td>33.767900</td>\n",
       "      <td>-118.199400</td>\n",
       "    </tr>\n",
       "    <tr>\n",
       "      <th>261</th>\n",
       "      <td>262</td>\n",
       "      <td>Manhattan</td>\n",
       "      <td>Yorkville East</td>\n",
       "      <td>Yellow Zone</td>\n",
       "      <td>43.670760</td>\n",
       "      <td>-79.392850</td>\n",
       "    </tr>\n",
       "    <tr>\n",
       "      <th>262</th>\n",
       "      <td>263</td>\n",
       "      <td>Manhattan</td>\n",
       "      <td>Yorkville West</td>\n",
       "      <td>Yellow Zone</td>\n",
       "      <td>41.690003</td>\n",
       "      <td>-88.430049</td>\n",
       "    </tr>\n",
       "    <tr>\n",
       "      <th>263</th>\n",
       "      <td>264</td>\n",
       "      <td>Unknown</td>\n",
       "      <td>NV</td>\n",
       "      <td>NaN</td>\n",
       "      <td>39.356482</td>\n",
       "      <td>-116.655436</td>\n",
       "    </tr>\n",
       "    <tr>\n",
       "      <th>264</th>\n",
       "      <td>265</td>\n",
       "      <td>Unknown</td>\n",
       "      <td>NaN</td>\n",
       "      <td>NaN</td>\n",
       "      <td>18.776096</td>\n",
       "      <td>100.773935</td>\n",
       "    </tr>\n",
       "  </tbody>\n",
       "</table>\n",
       "<p>265 rows × 6 columns</p>\n",
       "</div>"
      ],
      "text/plain": [
       "     LocationID        Borough                     Zone service_zone  \\\n",
       "0             1            EWR           Newark Airport          EWR   \n",
       "1             2         Queens              Jamaica Bay    Boro Zone   \n",
       "2             3          Bronx  Allerton/Pelham Gardens    Boro Zone   \n",
       "3             4      Manhattan            Alphabet City  Yellow Zone   \n",
       "4             5  Staten Island            Arden Heights    Boro Zone   \n",
       "..          ...            ...                      ...          ...   \n",
       "260         261      Manhattan       World Trade Center  Yellow Zone   \n",
       "261         262      Manhattan           Yorkville East  Yellow Zone   \n",
       "262         263      Manhattan           Yorkville West  Yellow Zone   \n",
       "263         264        Unknown                       NV          NaN   \n",
       "264         265        Unknown                      NaN          NaN   \n",
       "\n",
       "      latitude   longitude  \n",
       "0    40.692440  -74.182960  \n",
       "1    40.603990  -73.835410  \n",
       "2    40.865210  -73.843070  \n",
       "3    40.725990  -73.980570  \n",
       "4    40.554140  -74.173910  \n",
       "..         ...         ...  \n",
       "260  33.767900 -118.199400  \n",
       "261  43.670760  -79.392850  \n",
       "262  41.690003  -88.430049  \n",
       "263  39.356482 -116.655436  \n",
       "264  18.776096  100.773935  \n",
       "\n",
       "[265 rows x 6 columns]"
      ]
     },
     "execution_count": 4,
     "metadata": {},
     "output_type": "execute_result"
    }
   ],
   "source": [
    "zone"
   ]
  },
  {
   "cell_type": "code",
   "execution_count": 5,
   "metadata": {},
   "outputs": [],
   "source": [
    "df_2021_06 = pd.read_parquet('yellow_tripdata_2021-06.parquet')\n",
    "df_2021_07 = pd.read_parquet('yellow_tripdata_2021-07.parquet')\n",
    "df_2021_08 = pd.read_parquet('yellow_tripdata_2021-08.parquet')\n",
    "df_2022_06 = pd.read_parquet('yellow_tripdata_2022-06.parquet')\n",
    "df_2022_07 = pd.read_parquet('yellow_tripdata_2022-07.parquet')\n",
    "df_2022_08 = pd.read_parquet('yellow_tripdata_2022-08.parquet')"
   ]
  },
  {
   "cell_type": "markdown",
   "metadata": {
    "tags": []
   },
   "source": [
    "## Handeling missing and merge data"
   ]
  },
  {
   "cell_type": "code",
   "execution_count": 6,
   "metadata": {},
   "outputs": [],
   "source": [
    "def merge_data(df):\n",
    "    temp_df = zone.copy()\n",
    "    temp_df.rename(columns = {'LocationID':\"PULocationID\"},inplace=True )\n",
    "    df = df.merge(temp_df,on='PULocationID')\n",
    "    df.rename(columns = {'latitude':\"PUlatitude\", 'longitude':\"PUlongitude\"},inplace=True )\n",
    "    temp_df2 = zone.copy()\n",
    "    temp_df2.rename(columns = {'LocationID':\"DOLocationID\"},inplace=True )\n",
    "    df = df.merge(temp_df2,on='DOLocationID')\n",
    "    df.rename(columns = {'latitude':\"DOlatitude\", 'longitude':\"DOlongitude\"},inplace=True )\n",
    "    df['time_taken'] = df['tpep_dropoff_datetime'] - df['tpep_pickup_datetime']\n",
    "    df['time_taken'] = [timedelta.Timedelta(x).total.seconds for x in df['time_taken']]\n",
    "    df['time_taken'] = round((df['time_taken']/60),2)\n",
    "    df['speed(miles/hours)'] =round((df['trip_distance'])/(df['time_taken']/60),2)\n",
    "    return df[['tpep_pickup_datetime', 'tpep_dropoff_datetime',\n",
    "       'passenger_count', 'trip_distance','time_taken', 'speed(miles/hours)','store_and_fwd_flag','PUlatitude', 'PUlongitude', 'DOlatitude', 'DOlongitude',\n",
    "        'payment_type', 'fare_amount', 'extra','mta_tax', 'tip_amount', 'tolls_amount', 'improvement_surcharge','total_amount', 'congestion_surcharge', 'airport_fee']]\n",
    "\n"
   ]
  },
  {
   "cell_type": "code",
   "execution_count": 7,
   "metadata": {},
   "outputs": [],
   "source": [
    "data_2021_06 = merge_data(df_2021_06)"
   ]
  },
  {
   "cell_type": "code",
   "execution_count": 8,
   "metadata": {},
   "outputs": [],
   "source": [
    "data_2021_07 = merge_data(df_2021_07)"
   ]
  },
  {
   "cell_type": "code",
   "execution_count": 9,
   "metadata": {},
   "outputs": [],
   "source": [
    "data_2021_08 = merge_data(df_2021_08)"
   ]
  },
  {
   "cell_type": "code",
   "execution_count": 10,
   "metadata": {},
   "outputs": [],
   "source": [
    "data_2022_06 = merge_data(df_2022_06)"
   ]
  },
  {
   "cell_type": "code",
   "execution_count": 11,
   "metadata": {},
   "outputs": [],
   "source": [
    "data_2022_07 = merge_data(df_2022_07)"
   ]
  },
  {
   "cell_type": "code",
   "execution_count": 12,
   "metadata": {},
   "outputs": [],
   "source": [
    "data_2022_08 = merge_data(df_2022_08)"
   ]
  },
  {
   "cell_type": "code",
   "execution_count": 13,
   "metadata": {},
   "outputs": [],
   "source": [
    "def na_value(data):\n",
    "    return round(((data.isna().sum()[data.isna().sum()>0])/len(data))*100,2)"
   ]
  },
  {
   "cell_type": "code",
   "execution_count": 14,
   "metadata": {
    "colab": {
     "base_uri": "https://localhost:8080/"
    },
    "id": "SjK9CVO_i7Ae",
    "outputId": "c4eefe32-edd9-4ef7-db8b-4febcdcd2de5"
   },
   "outputs": [
    {
     "name": "stdout",
     "output_type": "stream",
     "text": [
      "Missing value of data_2021_06 is: \n",
      "passenger_count         4.36\n",
      "speed(miles/hours)      0.07\n",
      "store_and_fwd_flag      4.36\n",
      "congestion_surcharge    4.36\n",
      "airport_fee             4.36\n",
      "dtype: float64\n",
      "-.--.--.--.--.--.--.--.--.--.--.--.--.--.--.--.--.--.--.--.--.--.--.--.--.--.--.--.--.--.--.--.--.--.--.--.--.--.--.--.--.--.--.--.--.--.--.--.--.--.--.--.--.--.--.--.--.--.--.--.-\n",
      "Missing value of data_2021_07 is: \n",
      "passenger_count         4.63\n",
      "speed(miles/hours)      0.09\n",
      "store_and_fwd_flag      4.63\n",
      "congestion_surcharge    4.63\n",
      "airport_fee             4.63\n",
      "dtype: float64\n",
      "-.--.--.--.--.--.--.--.--.--.--.--.--.--.--.--.--.--.--.--.--.--.--.--.--.--.--.--.--.--.--.--.--.--.--.--.--.--.--.--.--.--.--.--.--.--.--.--.--.--.--.--.--.--.--.--.--.--.--.--.-\n",
      "Missing value of data_2021_08 is: \n",
      "passenger_count         4.86\n",
      "speed(miles/hours)      0.08\n",
      "store_and_fwd_flag      4.86\n",
      "congestion_surcharge    4.86\n",
      "airport_fee             4.86\n",
      "dtype: float64\n",
      "-.--.--.--.--.--.--.--.--.--.--.--.--.--.--.--.--.--.--.--.--.--.--.--.--.--.--.--.--.--.--.--.--.--.--.--.--.--.--.--.--.--.--.--.--.--.--.--.--.--.--.--.--.--.--.--.--.--.--.--.-\n",
      "Missing value of data_2022_06 is: \n",
      "passenger_count         3.72\n",
      "speed(miles/hours)      0.04\n",
      "store_and_fwd_flag      3.72\n",
      "congestion_surcharge    3.72\n",
      "airport_fee             3.72\n",
      "dtype: float64\n",
      "-.--.--.--.--.--.--.--.--.--.--.--.--.--.--.--.--.--.--.--.--.--.--.--.--.--.--.--.--.--.--.--.--.--.--.--.--.--.--.--.--.--.--.--.--.--.--.--.--.--.--.--.--.--.--.--.--.--.--.--.-\n",
      "Missing value of data_2022_07 is: \n",
      "passenger_count         3.31\n",
      "speed(miles/hours)      0.05\n",
      "store_and_fwd_flag      3.31\n",
      "congestion_surcharge    3.31\n",
      "airport_fee             3.31\n",
      "dtype: float64\n",
      "-.--.--.--.--.--.--.--.--.--.--.--.--.--.--.--.--.--.--.--.--.--.--.--.--.--.--.--.--.--.--.--.--.--.--.--.--.--.--.--.--.--.--.--.--.--.--.--.--.--.--.--.--.--.--.--.--.--.--.--.-\n",
      "Missing value of data_2022_08 is: \n",
      "passenger_count         2.96\n",
      "speed(miles/hours)      0.05\n",
      "store_and_fwd_flag      2.96\n",
      "congestion_surcharge    2.96\n",
      "airport_fee             2.96\n",
      "dtype: float64\n",
      "-.--.--.--.--.--.--.--.--.--.--.--.--.--.--.--.--.--.--.--.--.--.--.--.--.--.--.--.--.--.--.--.--.--.--.--.--.--.--.--.--.--.--.--.--.--.--.--.--.--.--.--.--.--.--.--.--.--.--.--.-\n"
     ]
    }
   ],
   "source": [
    "print('Missing value of data_2021_06 is: ')\n",
    "print(na_value(data_2021_06))\n",
    "print(\"-.-\"*60)\n",
    "print('Missing value of data_2021_07 is: ')\n",
    "print(na_value(data_2021_07))\n",
    "print(\"-.-\"*60)\n",
    "print('Missing value of data_2021_08 is: ')\n",
    "print(na_value(data_2021_08))\n",
    "print(\"-.-\"*60)\n",
    "print('Missing value of data_2022_06 is: ')\n",
    "print(na_value(data_2022_06))\n",
    "print(\"-.-\"*60)\n",
    "print('Missing value of data_2022_07 is: ')\n",
    "print(na_value(data_2022_07))\n",
    "print(\"-.-\"*60)\n",
    "print('Missing value of data_2022_08 is: ')\n",
    "print(na_value(data_2022_08))\n",
    "print(\"-.-\"*60)"
   ]
  },
  {
   "cell_type": "code",
   "execution_count": 15,
   "metadata": {
    "id": "2bK68xV7jC1_"
   },
   "outputs": [],
   "source": [
    "def drop_na(df):\n",
    "    return df.dropna(axis=0, inplace=True)"
   ]
  },
  {
   "cell_type": "code",
   "execution_count": 16,
   "metadata": {
    "colab": {
     "base_uri": "https://localhost:8080/",
     "height": 488
    },
    "id": "zKKEEprfkdtB",
    "outputId": "7904c352-df44-4aea-834d-ed2a70951086"
   },
   "outputs": [],
   "source": [
    "drop_na(data_2021_06)"
   ]
  },
  {
   "cell_type": "code",
   "execution_count": 17,
   "metadata": {},
   "outputs": [],
   "source": [
    "drop_na(data_2021_07)"
   ]
  },
  {
   "cell_type": "code",
   "execution_count": 18,
   "metadata": {},
   "outputs": [],
   "source": [
    "drop_na(data_2021_08)"
   ]
  },
  {
   "cell_type": "code",
   "execution_count": 19,
   "metadata": {},
   "outputs": [],
   "source": [
    "drop_na(data_2022_06)"
   ]
  },
  {
   "cell_type": "code",
   "execution_count": 20,
   "metadata": {},
   "outputs": [],
   "source": [
    "drop_na(data_2022_07)"
   ]
  },
  {
   "cell_type": "code",
   "execution_count": 21,
   "metadata": {},
   "outputs": [],
   "source": [
    "drop_na(data_2022_08)"
   ]
  },
  {
   "cell_type": "code",
   "execution_count": 22,
   "metadata": {},
   "outputs": [],
   "source": [
    "data_records = [data_2021_06,data_2021_07,data_2021_08,data_2022_06,data_2022_07,data_2022_08]"
   ]
  },
  {
   "cell_type": "markdown",
   "metadata": {
    "tags": []
   },
   "source": [
    "## Pickup time and Dropoff Time"
   ]
  },
  {
   "cell_type": "code",
   "execution_count": 23,
   "metadata": {},
   "outputs": [],
   "source": [
    "def error_date(df):\n",
    "    x = df[(df['tpep_pickup_datetime'] < '2021-06-01 00:00:00') | (df['tpep_pickup_datetime'] > '2022-08-31 23:59:59')]\n",
    "    return len(x)"
   ]
  },
  {
   "cell_type": "code",
   "execution_count": 24,
   "metadata": {},
   "outputs": [
    {
     "name": "stdout",
     "output_type": "stream",
     "text": [
      "61\n",
      "61\n",
      "49\n",
      "447\n",
      "9\n",
      "24\n"
     ]
    }
   ],
   "source": [
    "for i in data_records:\n",
    "    print(error_date(i))"
   ]
  },
  {
   "cell_type": "code",
   "execution_count": 25,
   "metadata": {},
   "outputs": [],
   "source": [
    "def fix_date(df):\n",
    "    x = df[(df['tpep_pickup_datetime'] > '2021-06-01 00:00:00') | (df['tpep_pickup_datetime'] < '2022-08-31 23:59:59')]\n",
    "    return x"
   ]
  },
  {
   "cell_type": "code",
   "execution_count": 26,
   "metadata": {},
   "outputs": [],
   "source": [
    "data_2021_06 = fix_date(data_2021_06)\n",
    "data_2021_07 = fix_date(data_2021_07)\n",
    "data_2021_08 = fix_date(data_2021_08)\n",
    "data_2022_06 = fix_date(data_2022_06)\n",
    "data_2022_07 = fix_date(data_2022_07)\n",
    "data_2022_08 = fix_date(data_2022_08)"
   ]
  },
  {
   "cell_type": "markdown",
   "metadata": {
    "tags": []
   },
   "source": [
    "## Passenger"
   ]
  },
  {
   "cell_type": "code",
   "execution_count": 27,
   "metadata": {},
   "outputs": [],
   "source": [
    "# counter = 0\n",
    "# plt.figure(figsize=(12,9))\n",
    "# for i in data_records:\n",
    "#     data_name =['data_2021_06','data_2021_07','data_2021_08','data_2022_06','data_2022_07','data_2022_08']\n",
    "#     counter = counter + 1\n",
    "#     plt.subplot(2,3,counter)\n",
    "#     # val = round((i['passenger_count'].value_counts()/len(i)*100),2)\n",
    "#     # bars = plt.bar(i['passenger_count'].value_counts().index,val)\n",
    "#     plt.boxplot(i['passenger_count'])\n",
    "#     plt.tight_layout() \n",
    "#     plt.title(\"{}\".format(data_name[counter-1]))\n",
    "#     plt.xlabel('Number of passenger')\n",
    "#     plt.ylabel('Total number of Customer in %')"
   ]
  },
  {
   "cell_type": "code",
   "execution_count": 28,
   "metadata": {},
   "outputs": [],
   "source": [
    "def outlier_passenger(Number_of_passenger):\n",
    "    counter = 0\n",
    "    data_records = [data_2021_06,data_2021_07,data_2021_08,data_2022_06,data_2022_07,data_2022_08]\n",
    "    for i in data_records:\n",
    "        counter = counter + 1\n",
    "        x = len(i[i['passenger_count'] == Number_of_passenger])\n",
    "        data_name =['data_2021_06','data_2021_07','data_2021_08','data_2022_06','data_2022_07','data_2022_08']\n",
    "        per_outlier = (x/i.shape[0])*100\n",
    "        print('{} ---- Number of outlier data is {} and in percentage is {} %'.format(data_name[counter-1], (x),round(per_outlier,2)))"
   ]
  },
  {
   "cell_type": "code",
   "execution_count": 29,
   "metadata": {},
   "outputs": [
    {
     "name": "stdout",
     "output_type": "stream",
     "text": [
      "data_2021_06 ---- Number of outlier data is 40931 and in percentage is 1.51 %\n",
      "data_2021_07 ---- Number of outlier data is 50601 and in percentage is 1.88 %\n",
      "data_2021_08 ---- Number of outlier data is 46870 and in percentage is 1.77 %\n",
      "data_2022_06 ---- Number of outlier data is 62314 and in percentage is 1.82 %\n",
      "data_2022_07 ---- Number of outlier data is 72121 and in percentage is 2.35 %\n",
      "data_2022_08 ---- Number of outlier data is 68787 and in percentage is 2.25 %\n"
     ]
    }
   ],
   "source": [
    "outlier_passenger(4)"
   ]
  },
  {
   "cell_type": "code",
   "execution_count": 30,
   "metadata": {},
   "outputs": [
    {
     "name": "stdout",
     "output_type": "stream",
     "text": [
      "data_2021_06 ---- Number of outlier data is 67677 and in percentage is 2.5 %\n",
      "data_2021_07 ---- Number of outlier data is 71743 and in percentage is 2.67 %\n",
      "data_2021_08 ---- Number of outlier data is 68858 and in percentage is 2.6 %\n",
      "data_2022_06 ---- Number of outlier data is 58894 and in percentage is 1.72 %\n",
      "data_2022_07 ---- Number of outlier data is 54138 and in percentage is 1.76 %\n",
      "data_2022_08 ---- Number of outlier data is 55734 and in percentage is 1.82 %\n"
     ]
    }
   ],
   "source": [
    "outlier_passenger(5)"
   ]
  },
  {
   "cell_type": "code",
   "execution_count": 31,
   "metadata": {},
   "outputs": [
    {
     "name": "stdout",
     "output_type": "stream",
     "text": [
      "data_2021_06 ---- Number of outlier data is 108580 and in percentage is 4.01 %\n",
      "data_2021_07 ---- Number of outlier data is 116291 and in percentage is 4.33 %\n",
      "data_2021_08 ---- Number of outlier data is 110306 and in percentage is 4.16 %\n",
      "data_2022_06 ---- Number of outlier data is 141300 and in percentage is 4.13 %\n",
      "data_2022_07 ---- Number of outlier data is 140104 and in percentage is 4.57 %\n",
      "data_2022_08 ---- Number of outlier data is 135986 and in percentage is 4.45 %\n"
     ]
    }
   ],
   "source": [
    "outlier_passenger(3)"
   ]
  },
  {
   "cell_type": "code",
   "execution_count": 34,
   "metadata": {},
   "outputs": [
    {
     "name": "stdout",
     "output_type": "stream",
     "text": [
      "data_2021_06 ---- Number of outlier data is 66501 and in percentage is 2.46 %\n",
      "data_2021_07 ---- Number of outlier data is 66720 and in percentage is 2.48 %\n",
      "data_2021_08 ---- Number of outlier data is 72761 and in percentage is 2.74 %\n",
      "data_2022_06 ---- Number of outlier data is 68589 and in percentage is 2.0 %\n",
      "data_2022_07 ---- Number of outlier data is 63254 and in percentage is 2.06 %\n",
      "data_2022_08 ---- Number of outlier data is 60355 and in percentage is 1.97 %\n"
     ]
    }
   ],
   "source": [
    "outlier_passenger(0)"
   ]
  },
  {
   "cell_type": "code",
   "execution_count": 35,
   "metadata": {
    "colab": {
     "base_uri": "https://localhost:8080/"
    },
    "id": "39T-AGRDsZBl",
    "outputId": "ece0c1d6-ea07-4dc4-c8f9-c711330f8782"
   },
   "outputs": [],
   "source": [
    "# counter = 0\n",
    "# plt.figure(figsize=(12,9))\n",
    "# for i in data_records:\n",
    "#     data_name =['data_2021_06','data_2021_07','data_2021_08','data_2022_06','data_2022_07','data_2022_08']\n",
    "#     counter = counter + 1\n",
    "#     plt.subplot(2,3,counter)\n",
    "#     val = round((i['passenger_count'].value_counts()/len(i)*100),2)\n",
    "#     bars = plt.bar(i['passenger_count'].value_counts().index,val)\n",
    "#     plt.bar_label(bars)\n",
    "#     plt.tight_layout() \n",
    "#     plt.title(\"{}\".format(data_name[counter-1]))\n",
    "#     plt.xlabel('Number of passenger')\n",
    "#     plt.ylabel('Total number of Customer in %')\n",
    "    "
   ]
  },
  {
   "cell_type": "code",
   "execution_count": 36,
   "metadata": {
    "id": "0OSOzsX-wCYv"
   },
   "outputs": [],
   "source": [
    "def outliers(df):\n",
    "    return df[(df['passenger_count']<=4) | df['passenger_count'] > 0]"
   ]
  },
  {
   "cell_type": "code",
   "execution_count": 37,
   "metadata": {
    "colab": {
     "base_uri": "https://localhost:8080/",
     "height": 488
    },
    "id": "-l9xCqwuxA1y",
    "outputId": "d76b1cbe-3691-4551-f67e-e502d2782a35"
   },
   "outputs": [],
   "source": [
    "data_2021_06 = outliers(data_2021_06)\n",
    "data_2021_07 = outliers(data_2021_07)\n",
    "data_2021_08 = outliers(data_2021_08)\n",
    "data_2022_06 = outliers(data_2022_06)\n",
    "data_2022_07 = outliers(data_2022_07)\n",
    "data_2022_08 = outliers(data_2022_08)\n"
   ]
  },
  {
   "cell_type": "code",
   "execution_count": 38,
   "metadata": {},
   "outputs": [],
   "source": [
    "# counter = 0\n",
    "# plt.figure(figsize=(13,9))\n",
    "# data_records = [data_2021_06,data_2021_07,data_2021_08,data_2022_06,data_2022_07,data_2022_08]\n",
    "# for i in data_records:\n",
    "    \n",
    "#     data_name =['data_2021_06','data_2021_07','data_2021_08','data_2022_06','data_2022_07','data_2022_08']\n",
    "#     counter = counter + 1\n",
    "#     plt.subplot(2,3,counter)\n",
    "#     val = round((i['passenger_count'].value_counts()/len(i)*100),2)\n",
    "#     bars = plt.bar(i['passenger_count'].value_counts().index,val)\n",
    "#     plt.bar_label(bars)\n",
    "#     plt.tight_layout() \n",
    "#     plt.title(\"{}\".format(data_name[counter-1]))\n",
    "#     plt.xlabel('Number of passenger')\n",
    "#     plt.ylabel('Total number of Customer in %')"
   ]
  },
  {
   "cell_type": "code",
   "execution_count": 39,
   "metadata": {},
   "outputs": [],
   "source": [
    "# counter = 0\n",
    "# plt.figure(figsize=(13,9))\n",
    "# data_records = [data_2021_06,data_2021_07,data_2021_08,data_2022_06,data_2022_07,data_2022_08]\n",
    "# for i in data_records:\n",
    "#     data_name =['data_2021_06','data_2021_07','data_2021_08','data_2022_06','data_2022_07','data_2022_08']\n",
    "#     counter = counter + 1\n",
    "#     plt.subplot(2,3,counter)\n",
    "#     val = round((i['passenger_count'].value_counts()/len(i)*100),2)\n",
    "#     plt.pie((i['passenger_count'].value_counts()/len(i)*100), labels=i['passenger_count'].value_counts().index, autopct='%1.1f%%')\n",
    "#     # plt.bar_label(bars)\n",
    "#     plt.tight_layout() \n",
    "#     plt.legend(i['passenger_count'].value_counts().index)\n",
    "#     plt.title(\"{}\".format(data_name[counter-1]))\n",
    "#     plt.xlabel('Number of passenger')\n",
    "#     plt.ylabel('Total number of Customer in %')"
   ]
  },
  {
   "cell_type": "markdown",
   "metadata": {
    "id": "X5UJ-7lzxNjN",
    "tags": []
   },
   "source": [
    "## Trip distance"
   ]
  },
  {
   "cell_type": "code",
   "execution_count": 40,
   "metadata": {
    "colab": {
     "base_uri": "https://localhost:8080/"
    },
    "id": "HZ5STnDnxKin",
    "outputId": "de914a48-93f2-4e6d-aa55-ae94145a1dce"
   },
   "outputs": [
    {
     "name": "stdout",
     "output_type": "stream",
     "text": [
      " \n",
      "------------ data_2021_06 -------------\n",
      "  \n",
      "0 perncetile is  -459.4\n",
      "10 perncetile is  4.2\n",
      "20 perncetile is  5.88\n",
      "30 perncetile is  7.43\n",
      "40 perncetile is  9.02\n",
      "50 perncetile is  10.78\n",
      "60 perncetile is  12.85\n",
      "70 perncetile is  15.5\n",
      "80 perncetile is  19.3\n",
      "90 perncetile is  26.55\n",
      "100 perncetile is  3129.48\n",
      " \n",
      "------------ data_2021_07 -------------\n",
      "  \n",
      "0 perncetile is  -2325.4\n",
      "10 perncetile is  4.12\n",
      "20 perncetile is  5.78\n",
      "30 perncetile is  7.33\n",
      "40 perncetile is  8.9\n",
      "50 perncetile is  10.63\n",
      "60 perncetile is  12.68\n",
      "70 perncetile is  15.27\n",
      "80 perncetile is  19.02\n",
      "90 perncetile is  26.12\n",
      "100 perncetile is  3018.62\n",
      " \n",
      "------------ data_2021_08 -------------\n",
      "  \n",
      "0 perncetile is  -5750.85\n",
      "10 perncetile is  4.12\n",
      "20 perncetile is  5.78\n",
      "30 perncetile is  7.3\n",
      "40 perncetile is  8.87\n",
      "50 perncetile is  10.58\n",
      "60 perncetile is  12.62\n",
      "70 perncetile is  15.2\n",
      "80 perncetile is  18.97\n",
      "90 perncetile is  26.32\n",
      "100 perncetile is  7081.27\n",
      " \n",
      "------------ data_2022_06 -------------\n",
      "  \n",
      "0 perncetile is  -678.4\n",
      "10 perncetile is  4.65\n",
      "20 perncetile is  6.65\n",
      "30 perncetile is  8.48\n",
      "40 perncetile is  10.37\n",
      "50 perncetile is  12.47\n",
      "60 perncetile is  14.97\n",
      "70 perncetile is  18.15\n",
      "80 perncetile is  22.8\n",
      "90 perncetile is  31.98\n",
      "100 perncetile is  10322055.18\n",
      " \n",
      "------------ data_2022_07 -------------\n",
      "  \n",
      "0 perncetile is  0.0\n",
      "10 perncetile is  4.47\n",
      "20 perncetile is  6.37\n",
      "30 perncetile is  8.12\n",
      "40 perncetile is  9.88\n",
      "50 perncetile is  11.85\n",
      "60 perncetile is  14.17\n",
      "70 perncetile is  17.12\n",
      "80 perncetile is  21.38\n",
      "90 perncetile is  29.65\n",
      "100 perncetile is  5634.05\n",
      " \n",
      "------------ data_2022_08 -------------\n",
      "  \n",
      "0 perncetile is  0.0\n",
      "10 perncetile is  4.52\n",
      "20 perncetile is  6.42\n",
      "30 perncetile is  8.17\n",
      "40 perncetile is  9.95\n",
      "50 perncetile is  11.93\n",
      "60 perncetile is  14.27\n",
      "70 perncetile is  17.28\n",
      "80 perncetile is  21.67\n",
      "90 perncetile is  30.27\n",
      "100 perncetile is  7198.47\n"
     ]
    }
   ],
   "source": [
    "counter = 0\n",
    "for i in data_records:\n",
    "  counter = counter + 1\n",
    "  data_name =['data_2021_06','data_2021_07','data_2021_08','data_2022_06','data_2022_07','data_2022_08']\n",
    "  print(\" \")\n",
    "  print(\"------------ {} -------------\".format(data_name[counter-1]))\n",
    "  print(end=\" \")\n",
    "  print(\" \")\n",
    "  for j in range(0,100,10):\n",
    "    print(\"{} perncetile is \".format(j),np.percentile(i['time_taken'],j))\n",
    "  print(\"{} perncetile is \".format(100),np.percentile(i['time_taken'],100))\n",
    "  \n"
   ]
  },
  {
   "cell_type": "code",
   "execution_count": 41,
   "metadata": {
    "colab": {
     "base_uri": "https://localhost:8080/"
    },
    "id": "BEWDrICMxR1J",
    "outputId": "c9afe875-f36a-4abf-dcff-341eb67d92c5"
   },
   "outputs": [
    {
     "name": "stdout",
     "output_type": "stream",
     "text": [
      "\n",
      "------------ data_2021_06 -------------\n",
      "\n",
      " 91 perncetile is  27.77\n",
      "92 perncetile is  29.15\n",
      "93 perncetile is  30.82\n",
      "94 perncetile is  32.8\n",
      "95 perncetile is  35.3\n",
      "96 perncetile is  38.57\n",
      "97 perncetile is  42.93\n",
      "98 perncetile is  49.18\n",
      "99 perncetile is  60.23\n",
      "100 perncetile is  3129.48\n",
      "\n",
      "------------ data_2021_07 -------------\n",
      "\n",
      " 91 perncetile is  27.33\n",
      "92 perncetile is  28.72\n",
      "93 perncetile is  30.35\n",
      "94 perncetile is  32.3\n",
      "95 perncetile is  34.68\n",
      "96 perncetile is  37.68\n",
      "97 perncetile is  41.63\n",
      "98 perncetile is  47.17\n",
      "99 perncetile is  56.8\n",
      "100 perncetile is  3018.62\n",
      "\n",
      "------------ data_2021_08 -------------\n",
      "\n",
      " 91 perncetile is  27.58\n",
      "92 perncetile is  29.05\n",
      "93 perncetile is  30.78\n",
      "94 perncetile is  32.9\n",
      "95 perncetile is  35.43\n",
      "96 perncetile is  38.6\n",
      "97 perncetile is  42.53\n",
      "98 perncetile is  47.77\n",
      "99 perncetile is  56.53\n",
      "100 perncetile is  7081.27\n",
      "\n",
      "------------ data_2022_06 -------------\n",
      "\n",
      " 91 perncetile is  33.58\n",
      "92 perncetile is  35.45\n",
      "93 perncetile is  37.63\n",
      "94 perncetile is  40.27\n",
      "95 perncetile is  43.48\n",
      "96 perncetile is  47.47\n",
      "97 perncetile is  52.63\n",
      "98 perncetile is  59.72\n",
      "99 perncetile is  71.63\n",
      "100 perncetile is  10322055.18\n",
      "\n",
      "------------ data_2022_07 -------------\n",
      "\n",
      " 91 perncetile is  31.07\n",
      "92 perncetile is  32.72\n",
      "93 perncetile is  34.62\n",
      "94 perncetile is  36.83\n",
      "95 perncetile is  39.48\n",
      "96 perncetile is  42.65\n",
      "97 perncetile is  46.68\n",
      "98 perncetile is  52.02\n",
      "99 perncetile is  60.65\n",
      "100 perncetile is  5634.05\n",
      "\n",
      "------------ data_2022_08 -------------\n",
      "\n",
      " 91 perncetile is  31.78\n",
      "92 perncetile is  33.52\n",
      "93 perncetile is  35.55\n",
      "94 perncetile is  37.97\n",
      "95 perncetile is  40.82\n",
      "96 perncetile is  44.23\n",
      "97 perncetile is  48.42\n",
      "98 perncetile is  53.87\n",
      "99 perncetile is  62.25\n",
      "100 perncetile is  7198.47\n"
     ]
    }
   ],
   "source": [
    "counter = 0\n",
    "for i in data_records:\n",
    "  counter = counter + 1\n",
    "  data_name =['data_2021_06','data_2021_07','data_2021_08','data_2022_06','data_2022_07','data_2022_08']\n",
    "  print(\"\")    \n",
    "  print(\"------------ {} -------------\".format(data_name[counter-1]))\n",
    "  print(\"\")  \n",
    "  print(end=\" \")\n",
    "  for j in range(91,100,1):\n",
    "    print(\"{} perncetile is \".format(j),np.percentile(i['time_taken'],j))\n",
    "  print(\"{} perncetile is \".format(100),np.percentile(i['time_taken'],100))"
   ]
  },
  {
   "cell_type": "code",
   "execution_count": 42,
   "metadata": {
    "colab": {
     "base_uri": "https://localhost:8080/"
    },
    "id": "CUR1cb3Wy3-x",
    "outputId": "7de5940f-7c25-4e1c-eacd-2c9090ae0100"
   },
   "outputs": [
    {
     "name": "stdout",
     "output_type": "stream",
     "text": [
      "\n",
      "------------ data_2021_06 -------------\n",
      " \n",
      "99.0 perncetile is  60.23\n",
      "99.1 perncetile is  62.0\n",
      "99.2 perncetile is  64.08\n",
      "99.3 perncetile is  66.5\n",
      "99.4 perncetile is  69.38964000000618\n",
      "99.5 perncetile is  73.2\n",
      "99.6 perncetile is  78.73\n",
      "99.7 perncetile is  88.82\n",
      "99.8 perncetile is  559.2294199999515\n",
      "99.9 perncetile is  1426.404940000009\n",
      "\n",
      "------------ data_2021_07 -------------\n",
      " \n",
      "99.0 perncetile is  56.8\n",
      "99.1 perncetile is  58.35\n",
      "99.2 perncetile is  60.18\n",
      "99.3 perncetile is  62.3\n",
      "99.4 perncetile is  64.97\n",
      "99.5 perncetile is  68.39750000000001\n",
      "99.6 perncetile is  73.52\n",
      "99.7 perncetile is  84.17\n",
      "99.8 perncetile is  888.975\n",
      "99.9 perncetile is  1425.361250000014\n",
      "\n",
      "------------ data_2021_08 -------------\n",
      " \n",
      "99.0 perncetile is  56.53\n",
      "99.1 perncetile is  57.93\n",
      "99.2 perncetile is  59.63\n",
      "99.3 perncetile is  61.6\n",
      "99.4 perncetile is  64.02\n",
      "99.5 perncetile is  67.12\n",
      "99.6 perncetile is  71.68\n",
      "99.7 perncetile is  80.78\n",
      "99.8 perncetile is  643.4893200000375\n",
      "99.9 perncetile is  1423.6509200000019\n",
      "\n",
      "------------ data_2022_06 -------------\n",
      " \n",
      "99.0 perncetile is  71.63\n",
      "99.1 perncetile is  73.38\n",
      "99.2 perncetile is  75.4\n",
      "99.3 perncetile is  77.58752000000328\n",
      "99.4 perncetile is  80.12\n",
      "99.5 perncetile is  83.1\n",
      "99.6 perncetile is  87.0\n",
      "99.7 perncetile is  92.85608000000008\n",
      "99.8 perncetile is  105.37535999999847\n",
      "99.9 perncetile is  1400.7998400000204\n",
      "\n",
      "------------ data_2022_07 -------------\n",
      " \n",
      "99.0 perncetile is  60.65\n",
      "99.1 perncetile is  61.97\n",
      "99.2 perncetile is  63.5\n",
      "99.3 perncetile is  65.27\n",
      "99.4 perncetile is  67.37\n",
      "99.5 perncetile is  69.88\n",
      "99.6 perncetile is  73.23\n",
      "99.7 perncetile is  78.3993200000003\n",
      "99.8 perncetile is  90.4\n",
      "99.9 perncetile is  1391.62\n",
      "\n",
      "------------ data_2022_08 -------------\n",
      " \n",
      "99.0 perncetile is  62.25\n",
      "99.1 perncetile is  63.5\n",
      "99.2 perncetile is  64.88\n",
      "99.3 perncetile is  66.5\n",
      "99.4 perncetile is  68.38\n",
      "99.5 perncetile is  70.73\n",
      "99.6 perncetile is  73.9\n",
      "99.7 perncetile is  78.72\n",
      "99.8 perncetile is  89.31524000000208\n",
      "99.9 perncetile is  1385.1616700000363\n",
      "100 perncetile is  7198.47\n"
     ]
    }
   ],
   "source": [
    "counter = 0\n",
    "for i in data_records:\n",
    "  counter = counter + 1\n",
    "  data_name =['data_2021_06','data_2021_07','data_2021_08','data_2022_06','data_2022_07','data_2022_08']\n",
    "  print(\"\") \n",
    "  print(\"------------ {} -------------\".format(data_name[counter-1]))\n",
    "  print(end=\" \")\n",
    "  print(\"\") \n",
    "  for j in np.arange(0.0,1.0,0.1):\n",
    "    print(\"{} perncetile is \".format(float(99+j)),np.percentile(i['time_taken'],float(99+j)))\n",
    "print(\"{} perncetile is \".format(100),np.percentile(i['time_taken'],100))"
   ]
  },
  {
   "cell_type": "code",
   "execution_count": 43,
   "metadata": {
    "id": "lKkiF33lzAEY"
   },
   "outputs": [],
   "source": [
    "def fix_distance(df):\n",
    "    return df[df['trip_distance']<45]"
   ]
  },
  {
   "cell_type": "code",
   "execution_count": 44,
   "metadata": {
    "colab": {
     "base_uri": "https://localhost:8080/",
     "height": 488
    },
    "id": "BzPjV3gMzvEn",
    "outputId": "b872f049-cb7c-4d84-ab93-e11c73814495"
   },
   "outputs": [],
   "source": [
    "data_2021_06 = fix_distance(data_2021_06)\n",
    "data_2021_07 = fix_distance(data_2021_07)\n",
    "data_2021_08 = fix_distance(data_2021_08)\n",
    "data_2022_06 = fix_distance(data_2022_06)\n",
    "data_2022_07 = fix_distance(data_2022_07)\n",
    "data_2022_08 = fix_distance(data_2022_08)"
   ]
  },
  {
   "cell_type": "markdown",
   "metadata": {},
   "source": [
    "### 95% Confidence Interval"
   ]
  },
  {
   "cell_type": "markdown",
   "metadata": {},
   "source": [
    "###### This approach is used to calculate confidence Intervals for the large dataset where the n>30, norm.interval() else smaller t.interval()"
   ]
  },
  {
   "cell_type": "code",
   "execution_count": 45,
   "metadata": {
    "colab": {
     "base_uri": "https://localhost:8080/"
    },
    "id": "zvqYa9juAsTf",
    "outputId": "cc672658-cb4f-4947-bedc-0b785da76954"
   },
   "outputs": [
    {
     "name": "stdout",
     "output_type": "stream",
     "text": [
      "\n",
      "------------ data_2021_06 -------------\n",
      "(2.9920915819049654, 3.0137325645476096)\n",
      "\n",
      "------------ data_2021_07 -------------\n",
      "(3.1940631693001174, 3.204911459376387)\n",
      "\n",
      "------------ data_2021_08 -------------\n",
      "(3.308378328700056, 3.323704524460406)\n",
      "\n",
      "------------ data_2022_06 -------------\n",
      "(3.5093223697252744, 3.754542063565335)\n",
      "\n",
      "------------ data_2022_07 -------------\n",
      "(3.585114884218947, 3.597260990179909)\n",
      "\n",
      "------------ data_2022_08 -------------\n",
      "(3.6064771417589996, 3.7580724442611726)\n",
      "\n"
     ]
    }
   ],
   "source": [
    "counter = 0\n",
    "for i in data_records:\n",
    "  counter = counter + 1\n",
    "  data_name =['data_2021_06','data_2021_07','data_2021_08','data_2022_06','data_2022_07','data_2022_08']\n",
    "  print(\"\") \n",
    "  print(\"------------ {} -------------\".format(data_name[counter-1]))\n",
    "  print(st.norm.interval(alpha=0.95,\n",
    "\t\t\t\tloc=np.mean(i['trip_distance']),\n",
    "\t\t\t\tscale=st.sem(i['trip_distance'])))\n",
    "print(\"\") \n",
    "  \n"
   ]
  },
  {
   "cell_type": "markdown",
   "metadata": {},
   "source": [
    "### Chebyshev Inequality Prbability\n",
    "\n",
    "## $$ (μ−k·σ  < X < μ−k·σ) > 1-(1/k^2) $$"
   ]
  },
  {
   "cell_type": "markdown",
   "metadata": {},
   "source": [
    "#### Chebbyshev Inequality Probability tells how much of percentage in trip distance range"
   ]
  },
  {
   "cell_type": "code",
   "execution_count": 46,
   "metadata": {},
   "outputs": [
    {
     "name": "stdout",
     "output_type": "stream",
     "text": [
      "****************************************\n",
      " 75.0% probalbity fall under in range\n",
      "\n",
      "****************************************\n",
      "\n",
      "------------ data_2021_06 -------------\n",
      "\n",
      "-15.169545705532645 - 21.17536985198522\n",
      "\n",
      "------------ data_2021_07 -------------\n",
      "\n",
      "-5.8761764023038605 - 12.275151030980366\n",
      "\n",
      "------------ data_2021_08 -------------\n",
      "\n",
      "-9.415689606575963 - 16.047772459736425\n",
      "\n",
      "------------ data_2022_06 -------------\n",
      "\n",
      "-227.88827848630777 - 235.1521429195984\n",
      "\n",
      "------------ data_2022_07 -------------\n",
      "\n",
      "-7.262914879978285 - 14.44529075437714\n",
      "\n",
      "------------ data_2022_08 -------------\n",
      "\n",
      "-131.57633347594088 - 138.94088306196107\n"
     ]
    }
   ],
   "source": [
    "counter = 0\n",
    "k=2\n",
    "print(\"*\"*40)\n",
    "print(\" {}% probalbity fall under in range\".format((1-(1/k**2))*100))\n",
    "print(\"\")\n",
    "print(\"*\"*40)\n",
    "for i in data_records:\n",
    "  counter = counter + 1\n",
    "  data_name =['data_2021_06','data_2021_07','data_2021_08','data_2022_06','data_2022_07','data_2022_08']\n",
    "  print(\"\") \n",
    "  print(\"------------ {} -------------\".format(data_name[counter-1]))\n",
    "  print(\"\") \n",
    "  mu = i['trip_distance'].mean()\n",
    "  std = i['trip_distance'].std()\n",
    "  print(mu-k*std,\"-\",mu+k*std)  \n",
    "    "
   ]
  },
  {
   "cell_type": "markdown",
   "metadata": {},
   "source": [
    "#### To check normal distributon or not"
   ]
  },
  {
   "cell_type": "code",
   "execution_count": 47,
   "metadata": {},
   "outputs": [],
   "source": [
    "# import matplotlib.pylab as pylab\n",
    "# counter = 0\n",
    "# plt.figure(figsize=(12,7))\n",
    "# data_records = [data_2021_06,data_2021_07,data_2021_08,data_2022_06,data_2022_07,data_2022_08]\n",
    "# for i in data_records:\n",
    "#     data_name =['data_2021_06','data_2021_07','data_2021_08','data_2022_06','data_2022_07','data_2022_08']\n",
    "#     counter = counter + 1\n",
    "#     plt.subplot(2,3,counter)\n",
    "#     st.probplot(i['trip_distance'], dist=\"norm\", plot=pylab);\n",
    "#     plt.tight_layout() \n",
    "#     plt.title(\"{}\".format(data_name[counter-1]))\n"
   ]
  },
  {
   "cell_type": "code",
   "execution_count": 48,
   "metadata": {},
   "outputs": [],
   "source": [
    "# counter = 0\n",
    "# plt.figure(figsize=(12,7))\n",
    "# data_records = [data_2021_06,data_2021_07,data_2021_08,data_2022_06,data_2022_07,data_2022_08]\n",
    "# for i in data_records:\n",
    "#     data_name =['data_2021_06','data_2021_07','data_2021_08','data_2022_06','data_2022_07','data_2022_08']\n",
    "#     counter = counter + 1\n",
    "#     plt.subplot(2,3,counter)\n",
    "#     sns.distplot(i['trip_distance'])\n",
    "#     plt.axvline(i['trip_distance'].mean(), color='red', linestyle='--',label='Average')\n",
    "#     plt.axvline(i['trip_distance'].median(), color='black', linestyle='-',label='Median')\n",
    "#     plt.tight_layout() \n",
    "#     plt.title(\"{}\".format(data_name[counter-1]))\n",
    "#     plt.xlabel('Distances in Miles')    "
   ]
  },
  {
   "cell_type": "code",
   "execution_count": 49,
   "metadata": {},
   "outputs": [],
   "source": [
    "# num_bins = 100\n",
    "# sns.set_style('whitegrid')\n",
    "# sns.kdeplot(data_2021_06['trip_distance'], color ='black');\n",
    "# sns.kdeplot(data_2021_07['trip_distance'], color ='green');\n",
    "# sns.kdeplot(data_2021_08['trip_distance'], color ='red' );\n",
    "# sns.kdeplot(data_2022_06['trip_distance'], color ='yellow');\n",
    "# sns.kdeplot(data_2022_07['trip_distance'], color ='cyan');\n",
    "# sns.kdeplot(data_2022_08['trip_distance'], color ='blue');"
   ]
  },
  {
   "cell_type": "markdown",
   "metadata": {},
   "source": [
    "### Two Sample KS Test for check same distribution or not\n",
    "##### we compare the KS Test with  latest dataset with previous year dataset ,  \n",
    "##### st.kstest(i['trip_distance'],'norm') first is our dataset and second comapare with normal distribution\n",
    "##### if p>0.05 then normal distribution else not distribution"
   ]
  },
  {
   "cell_type": "markdown",
   "metadata": {},
   "source": [
    "#### The null hypothesis is rejected at $ \\alpha $ if\n",
    "\n",
    "### $$ D_{n,m}\\ \\ >\\ c\\left(\\alpha \\right)\\sqrt{\\frac{n+m}{n\\cdot m}} $$\n",
    "\n",
    "##### check lookup table in wiki KS test"
   ]
  },
  {
   "cell_type": "code",
   "execution_count": 50,
   "metadata": {},
   "outputs": [],
   "source": [
    "import handcalcs.render\n",
    "from math import sqrt, log"
   ]
  },
  {
   "cell_type": "code",
   "execution_count": 51,
   "metadata": {},
   "outputs": [],
   "source": [
    "n = len(data_2021_06)\n",
    "m = len(data_2022_08)"
   ]
  },
  {
   "cell_type": "code",
   "execution_count": 52,
   "metadata": {},
   "outputs": [
    {
     "data": {
      "text/latex": [
       "\\[\n",
       "\\begin{aligned}\n",
       "x &= 0.050 \\; \n",
       "\\\\[10pt]\n",
       "C &= \\sqrt { \\left( - 0.5 \\right) \\cdot \\ln \\left( \\frac{ x }{ 2 } \\right) }  = \\sqrt { \\left( - 0.5 \\right) \\cdot \\ln \\left( \\frac{ 0.050 }{ 2 } \\right) } &= 1.358  \n",
       "\\\\[10pt]\n",
       "D &= 1.36 \\cdot \\sqrt { \\frac{ n + m }{ n \\cdot m } }  = 1.36 \\cdot \\sqrt { \\frac{ 2707906 + 3057270 }{ 2707906 \\cdot 3057270 } } &= 0.001  \n",
       "\\end{aligned}\n",
       "\\]"
      ],
      "text/plain": [
       "<IPython.core.display.Latex object>"
      ]
     },
     "metadata": {},
     "output_type": "display_data"
    }
   ],
   "source": [
    "%%render\n",
    "\n",
    "# (take siqgnificance level 0.05) \n",
    "x = 0.05  \n",
    "C =  sqrt(-0.5* log (x /2))\n",
    "\n",
    "D = 1.36*(sqrt((n+m)/(n*m)))"
   ]
  },
  {
   "cell_type": "markdown",
   "metadata": {},
   "source": [
    "##### :: Above mathematical intution state that if D > 0.001 at out significance level at 0.05 then reject null hypothesis means that distribution is not same"
   ]
  },
  {
   "cell_type": "code",
   "execution_count": 53,
   "metadata": {},
   "outputs": [],
   "source": [
    "# sns.kdeplot(data=data_2021_06['trip_distance'], cumulative=True , label = '2021_06', color = 'black' )\n",
    "# sns.kdeplot(data=data_2021_07['trip_distance'], cumulative=True , label = '2021_07', color ='green');\n",
    "# sns.kdeplot(data=data_2021_08['trip_distance'], cumulative=True , label = '2021_08', color ='red' );\n",
    "# sns.kdeplot(data=data_2022_06['trip_distance'], cumulative=True , label = '2022_06', color ='yellow');\n",
    "# sns.kdeplot(data=data_2022_07['trip_distance'], cumulative=True , label = '2022_07', color ='cyan');\n",
    "# sns.kdeplot(data=data_2022_08['trip_distance'], cumulative=True , label = '2022_08', color ='blue');\n",
    "# plt.legend()\n",
    "# plt.show()"
   ]
  },
  {
   "cell_type": "code",
   "execution_count": 54,
   "metadata": {},
   "outputs": [
    {
     "name": "stdout",
     "output_type": "stream",
     "text": [
      "data_2021_06\n",
      "KstestResult(statistic=0.6590569149605736, pvalue=0.0)\n",
      "----------------------------------------------------------------------------------------------------\n",
      "\n",
      "data_2021_07\n",
      "KstestResult(statistic=0.6613080500488204, pvalue=0.0)\n",
      "----------------------------------------------------------------------------------------------------\n",
      "\n",
      "data_2021_08\n",
      "KstestResult(statistic=0.6632178185019042, pvalue=0.0)\n",
      "----------------------------------------------------------------------------------------------------\n",
      "\n",
      "data_2022_06\n",
      "KstestResult(statistic=0.666181201388876, pvalue=0.0)\n",
      "----------------------------------------------------------------------------------------------------\n",
      "\n",
      "data_2022_07\n",
      "KstestResult(statistic=0.6667180458039428, pvalue=0.0)\n",
      "----------------------------------------------------------------------------------------------------\n",
      "\n",
      "data_2022_08\n",
      "KstestResult(statistic=0.6658400419223574, pvalue=0.0)\n",
      "----------------------------------------------------------------------------------------------------\n",
      "\n"
     ]
    }
   ],
   "source": [
    "counter = 0\n",
    "data_name =['data_2021_06','data_2021_07','data_2021_08','data_2022_06','data_2022_07','data_2022_08']\n",
    "data_records = [data_2021_06,data_2021_07,data_2021_08,data_2022_06,data_2022_07,data_2022_08]\n",
    "for i in data_records:\n",
    "    counter = counter + 1\n",
    "    print(\"{}\".format(data_name[counter-1]))   \n",
    "    print(st.kstest(i['trip_distance'],'norm'))\n",
    "    print('--'*50)\n",
    "    print('')"
   ]
  },
  {
   "cell_type": "markdown",
   "metadata": {},
   "source": [
    "### Power Law Distribution (80-20 rule)"
   ]
  },
  {
   "cell_type": "code",
   "execution_count": 55,
   "metadata": {},
   "outputs": [],
   "source": [
    "# data_2021_06_temp = data_2021_06.copy()\n",
    "# data_2021_07_temp = data_2021_07.copy()\n",
    "# data_2021_08_temp = data_2021_08.copy()\n",
    "# data_2022_06_temp = data_2022_06.copy()\n",
    "# data_2022_07_temp = data_2022_07.copy()\n",
    "# data_2022_08_temp = data_2022_08.copy()"
   ]
  },
  {
   "cell_type": "code",
   "execution_count": 56,
   "metadata": {},
   "outputs": [],
   "source": [
    "# import powerlaw\n",
    "# counter = 0\n",
    "# plt.figure(figsize=(12,7))\n",
    "# data_records = [data_2021_06,data_2021_07,data_2021_08,data_2022_06,data_2022_07,data_2022_08]\n",
    "# for i in data_records:\n",
    "#     data_name =['data_2021_06','data_2021_07','data_2021_08','data_2022_06','data_2022_07','data_2022_08']\n",
    "#     counter = counter + 1\n",
    "#     plt.subplot(2,3,counter)\n",
    "#     d = i['trip_distance']\n",
    "#     fit = powerlaw.Fit(np.array(d)+1,xmin=1,discrete=True)\n",
    "#     fit.power_law.plot_pdf( color= 'r',label='fit ccdf')\n",
    "#     fit.plot_pdf( color= 'b') \n",
    "#     plt.title(\"data_name : {}, \\nalpha= {} , \\nsigma= {}\".format(data_name[counter-1], fit.power_law.alpha, fit.power_law.sigma  ))\n",
    "#     plt.tight_layout()"
   ]
  },
  {
   "cell_type": "code",
   "execution_count": null,
   "metadata": {},
   "outputs": [],
   "source": []
  },
  {
   "cell_type": "markdown",
   "metadata": {},
   "source": [
    "##### Variance & std : the standard deviation is calculated as the square root of variance. Variance is calculated by dividing the sum of squares of the difference of each value and the mean, with the total number of values"
   ]
  },
  {
   "cell_type": "code",
   "execution_count": 57,
   "metadata": {},
   "outputs": [
    {
     "name": "stdout",
     "output_type": "stream",
     "text": [
      "data_2021_06 ---- mean trip distance is 2.9707847170470485\n",
      "data_2021_06 ---- median trip distance is 1.79\n",
      "data_2021_06 ---- std trip distance is 3.7031828132336027\n",
      "\n",
      "**************************************************\n",
      "\n",
      "data_2021_07 ---- mean trip distance is 3.171298847273186\n",
      "data_2021_07 ---- median trip distance is 1.82\n",
      "data_2021_07 ---- std trip distance is 3.9856534559626797\n",
      "\n",
      "**************************************************\n",
      "\n",
      "data_2021_08 ---- mean trip distance is 3.282535503172945\n",
      "data_2021_08 ---- median trip distance is 1.85\n",
      "data_2021_08 ---- std trip distance is 4.150953547421207\n",
      "\n",
      "**************************************************\n",
      "\n",
      "data_2022_06 ---- mean trip distance is 3.5319893813199204\n",
      "data_2022_06 ---- median trip distance is 1.9\n",
      "data_2022_06 ---- std trip distance is 4.453012616631941\n",
      "\n",
      "**************************************************\n",
      "\n",
      "data_2022_07 ---- mean trip distance is 3.574687370898802\n",
      "data_2022_07 ---- median trip distance is 1.9\n",
      "data_2022_07 ---- std trip distance is 4.505576470253696\n",
      "\n",
      "**************************************************\n",
      "\n",
      "data_2022_08 ---- mean trip distance is 3.6112064227235443\n",
      "data_2022_08 ---- median trip distance is 1.9\n",
      "data_2022_08 ---- std trip distance is 4.557812490057699\n",
      "\n",
      "**************************************************\n",
      "\n"
     ]
    }
   ],
   "source": [
    "data_records = [data_2021_06,data_2021_07,data_2021_08,data_2022_06,data_2022_07,data_2022_08]\n",
    "counter = 0\n",
    "for i in data_records:\n",
    "    counter = counter + 1\n",
    "    data_name =['data_2021_06','data_2021_07','data_2021_08','data_2022_06','data_2022_07','data_2022_08']\n",
    "    print(\"{} ---- mean trip distance is {}\".format(data_name[counter-1], i['trip_distance'].mean()))\n",
    "    print(\"{} ---- median trip distance is {}\".format(data_name[counter-1], i['trip_distance'].median()))\n",
    "    print(\"{} ---- std trip distance is {}\".format(data_name[counter-1], i['trip_distance'].std()))\n",
    "    print('')\n",
    "    print(\"*\"*50)\n",
    "    print('')\n",
    "    "
   ]
  },
  {
   "cell_type": "markdown",
   "metadata": {},
   "source": [
    "### Central Limit Theorem\n",
    "###### 1. Sampling Distribution Mean(μₓ¯) = Population Mean(μ)\n",
    "###### 2. Sampling distribution’s standard deviation (Standard error) = σ/√n ≈S/√n\n",
    "###### 3. For n > 30, the sampling distribution becomes a normal distribution"
   ]
  },
  {
   "cell_type": "code",
   "execution_count": 58,
   "metadata": {},
   "outputs": [
    {
     "data": {
      "text/plain": [
       "<AxesSubplot: xlabel='trip_distance', ylabel='Density'>"
      ]
     },
     "execution_count": 58,
     "metadata": {},
     "output_type": "execute_result"
    },
    {
     "data": {
      "image/png": "[encoded data removed]",
      "text/plain": [
       "<Figure size 640x480 with 1 Axes>"
      ]
     },
     "metadata": {},
     "output_type": "display_data"
    }
   ],
   "source": [
    "sns.distplot(data_2021_06['trip_distance'])"
   ]
  },
  {
   "cell_type": "markdown",
   "metadata": {},
   "source": [
    "##### As we can see that data is not normal distribution and lookalike exponantial distribution."
   ]
  },
  {
   "cell_type": "code",
   "execution_count": 59,
   "metadata": {},
   "outputs": [],
   "source": [
    "sample_means = [data_2021_06.trip_distance.sample(30).mean() for i in range(1000) ]\n",
    "sample_means = pd.Series(sample_means)"
   ]
  },
  {
   "cell_type": "code",
   "execution_count": 60,
   "metadata": {},
   "outputs": [
    {
     "name": "stdout",
     "output_type": "stream",
     "text": [
      "Original mean 2.9707847170470485\n",
      "Sampling mean 2.9800096666666667\n",
      "\n",
      "---------------------------------------------------------------------------\n",
      "\n",
      "Sampling standard deviation 0.6700147198783258\n",
      "Sampling distribution’s standard deviation (standard error) σ/√n =  0.12232739197928803\n"
     ]
    }
   ],
   "source": [
    "### original mean\n",
    "print(\"Original mean {}\".format(data_2021_06['trip_distance'].mean()))\n",
    "### sampling means\n",
    "print(\"Sampling mean {}\".format(sample_means.mean()))\n",
    "\n",
    "print(\"\")\n",
    "print(\"---\"*25)\n",
    "print(\"\")\n",
    "\n",
    "### original std deviation\n",
    "print(\"Sampling standard deviation {}\".format(sample_means.std()))\n",
    "### sampling std deviation (σ/√n)\n",
    "print(\"Sampling distribution’s standard deviation (standard error) σ/√n =  {}\".format(sample_means.std()/np.sqrt(30)))"
   ]
  },
  {
   "cell_type": "markdown",
   "metadata": {},
   "source": [
    "###### Sampling standard deviation always That value should be quite close to Sampling distribution’s standard deviation (standard error)."
   ]
  },
  {
   "cell_type": "code",
   "execution_count": 61,
   "metadata": {},
   "outputs": [],
   "source": [
    "# sample_size = [3,10,30,50,100,120]\n",
    "# plt.figure(figsize=(12,7))\n",
    "# for i, sampl_size in enumerate(sample_size):\n",
    "#     sam_mean = [data_2021_06.trip_distance.sample(sampl_size).mean() for i in range(100)]\n",
    "#     plt.subplot(2,3,i+1)\n",
    "#     sns.distplot(sam_mean, bins=25)\n",
    "#     plt.title(\"Sample size: \"+str(sampl_size))\n",
    "# plt.tight_layout()\n",
    "# plt.show()\n",
    "    "
   ]
  },
  {
   "cell_type": "markdown",
   "metadata": {},
   "source": [
    "#### As we can observe, the distribution graph for Sample Size 3 & 10 does not resemble Normal Distribution. Still, from the Sample Size 30 as the Sample Size increases, the Sample Distribution resembles Normal Distribution."
   ]
  },
  {
   "cell_type": "markdown",
   "metadata": {},
   "source": [
    "#### The mean commute time of 30000 employees (μ)= 36.6 (sample mean) + some margin of error. We can find this margin of error using the CLT (central limit theorem)."
   ]
  },
  {
   "cell_type": "markdown",
   "metadata": {},
   "source": [
    "#### Let’s say we have the mean of 1000 trip sample is X¯=2.905510333333333 miles, and the Standard Deviation of the sample is S=0.6561064103765346 miles. Using CLT, we can infer that,\n",
    "\n",
    "#### Sampling Distribution Mean(μₓ¯) = Population Mean(μ)\n",
    "#### Sampling Distributions’ Standard Deviation = σ/√n ≈S/√n = 10/√1000 \n",
    "#### Since Sampling Distribution is a Normal Distribution\n",
    "#### P(μ-2 < 2.90 < μ+2) = 95.4%, we get this value by 1–2–3 Rule of Normal Distribution Curve.\n",
    "#### P(μ-2 < 2.90 < μ+2) = P(2.90–2< μ < 2.90+2) = 95.4%\n"
   ]
  },
  {
   "cell_type": "markdown",
   "metadata": {},
   "source": [
    "#### Now, we can say that there is a 95.4% probability that the Population Mean(μ) lies between (2.90–2, 2.90+2). In other words, we are 95.4% confident that the error in estimating the mean ≤ 2."
   ]
  },
  {
   "cell_type": "code",
   "execution_count": null,
   "metadata": {},
   "outputs": [],
   "source": []
  },
  {
   "cell_type": "markdown",
   "metadata": {
    "id": "6Ywlpjx88zAy",
    "tags": []
   },
   "source": [
    "## Time Taken"
   ]
  },
  {
   "cell_type": "code",
   "execution_count": 62,
   "metadata": {},
   "outputs": [
    {
     "name": "stdout",
     "output_type": "stream",
     "text": [
      "\n",
      "------------ data_2021_06 -------------\n",
      "\n",
      " 0 perncentile is  -459.4\n",
      "10 perncentile is  4.2\n",
      "20 perncentile is  5.88\n",
      "30 perncentile is  7.42\n",
      "40 perncentile is  9.02\n",
      "50 perncentile is  10.78\n",
      "60 perncentile is  12.85\n",
      "70 perncentile is  15.5\n",
      "80 perncentile is  19.3\n",
      "90 perncentile is  26.53\n",
      "100 perncentile is  3129.48\n",
      "\n",
      "------------ data_2021_07 -------------\n",
      "\n",
      " 0 perncentile is  -2325.4\n",
      "10 perncentile is  4.12\n",
      "20 perncentile is  5.78\n",
      "30 perncentile is  7.32\n",
      "40 perncentile is  8.9\n",
      "50 perncentile is  10.63\n",
      "60 perncentile is  12.67\n",
      "70 perncentile is  15.27\n",
      "80 perncentile is  19.02\n",
      "90 perncentile is  26.1\n",
      "100 perncentile is  3018.62\n",
      "\n",
      "------------ data_2021_08 -------------\n",
      "\n",
      " 0 perncentile is  -5750.85\n",
      "10 perncentile is  4.12\n",
      "20 perncentile is  5.78\n",
      "30 perncentile is  7.3\n",
      "40 perncentile is  8.87\n",
      "50 perncentile is  10.58\n",
      "60 perncentile is  12.6\n",
      "70 perncentile is  15.2\n",
      "80 perncentile is  18.97\n",
      "90 perncentile is  26.28\n",
      "100 perncentile is  7081.27\n",
      "\n",
      "------------ data_2022_06 -------------\n",
      "\n",
      " 0 perncentile is  -678.4\n",
      "10 perncentile is  4.65\n",
      "20 perncentile is  6.65\n",
      "30 perncentile is  8.48\n",
      "40 perncentile is  10.37\n",
      "50 perncentile is  12.47\n",
      "60 perncentile is  14.97\n",
      "70 perncentile is  18.13\n",
      "80 perncentile is  22.78\n",
      "90 perncentile is  31.95\n",
      "100 perncentile is  10322055.18\n",
      "\n",
      "------------ data_2022_07 -------------\n",
      "\n",
      " 0 perncentile is  0.0\n",
      "10 perncentile is  4.47\n",
      "20 perncentile is  6.37\n",
      "30 perncentile is  8.12\n",
      "40 perncentile is  9.88\n",
      "50 perncentile is  11.85\n",
      "60 perncentile is  14.17\n",
      "70 perncentile is  17.12\n",
      "80 perncentile is  21.37\n",
      "90 perncentile is  29.62\n",
      "100 perncentile is  5563.1\n",
      "\n",
      "------------ data_2022_08 -------------\n",
      "\n",
      " 0 perncentile is  0.0\n",
      "10 perncentile is  4.52\n",
      "20 perncentile is  6.42\n",
      "30 perncentile is  8.17\n",
      "40 perncentile is  9.95\n",
      "50 perncentile is  11.92\n",
      "60 perncentile is  14.27\n",
      "70 perncentile is  17.27\n",
      "80 perncentile is  21.65\n",
      "90 perncentile is  30.23\n",
      "100 perncentile is  7198.47\n"
     ]
    }
   ],
   "source": [
    "counter = 0\n",
    "for i in data_records:\n",
    "  counter = counter + 1\n",
    "  data_name =['data_2021_06','data_2021_07','data_2021_08','data_2022_06','data_2022_07','data_2022_08']\n",
    "  print(\"\")    \n",
    "  print(\"------------ {} -------------\".format(data_name[counter-1]))\n",
    "  print(\"\")  \n",
    "  print(end=\" \")\n",
    "  for j in range(0,100,10):\n",
    "    print(\"{} perncentile is \".format(j),np.percentile(i['time_taken'],j))\n",
    "  print(\"{} perncentile is \".format(100),np.percentile(i['time_taken'],100))"
   ]
  },
  {
   "cell_type": "code",
   "execution_count": 63,
   "metadata": {},
   "outputs": [
    {
     "name": "stdout",
     "output_type": "stream",
     "text": [
      "\n",
      "------------ data_2021_06 -------------\n",
      "\n",
      " 90 perncentile is  26.53\n",
      "91 perncentile is  27.73\n",
      "92 perncentile is  29.13\n",
      "93 perncentile is  30.78\n",
      "94 perncentile is  32.77\n",
      "95 perncentile is  35.27\n",
      "96 perncentile is  38.52\n",
      "97 perncentile is  42.87\n",
      "98 perncentile is  49.08\n",
      "99 perncentile is  60.05\n",
      "100 perncentile is  3129.48\n",
      "\n",
      "------------ data_2021_07 -------------\n",
      "\n",
      " 90 perncentile is  26.1\n",
      "91 perncentile is  27.3\n",
      "92 perncentile is  28.68\n",
      "93 perncentile is  30.32\n",
      "94 perncentile is  32.27\n",
      "95 perncentile is  34.63\n",
      "96 perncentile is  37.63\n",
      "97 perncentile is  41.55\n",
      "98 perncentile is  47.05\n",
      "99 perncentile is  56.55\n",
      "100 perncentile is  3018.62\n",
      "\n",
      "------------ data_2021_08 -------------\n",
      "\n",
      " 90 perncentile is  26.28\n",
      "91 perncentile is  27.55\n",
      "92 perncentile is  29.02\n",
      "93 perncentile is  30.73\n",
      "94 perncentile is  32.83\n",
      "95 perncentile is  35.35\n",
      "96 perncentile is  38.5\n",
      "97 perncentile is  42.43\n",
      "98 perncentile is  47.63\n",
      "99 perncentile is  56.23\n",
      "100 perncentile is  7081.27\n",
      "\n",
      "------------ data_2022_06 -------------\n",
      "\n",
      " 90 perncentile is  31.95\n",
      "91 perncentile is  33.55\n",
      "92 perncentile is  35.4\n",
      "93 perncentile is  37.57\n",
      "94 perncentile is  40.22\n",
      "95 perncentile is  43.4\n",
      "96 perncentile is  47.38\n",
      "97 perncentile is  52.52\n",
      "98 perncentile is  59.55\n",
      "99 perncentile is  71.42\n",
      "100 perncentile is  10322055.18\n",
      "\n",
      "------------ data_2022_07 -------------\n",
      "\n",
      " 90 perncentile is  29.62\n",
      "91 perncentile is  31.03\n",
      "92 perncentile is  32.68\n",
      "93 perncentile is  34.57\n",
      "94 perncentile is  36.77\n",
      "95 perncentile is  39.42\n",
      "96 perncentile is  42.57\n",
      "97 perncentile is  46.57\n",
      "98 perncentile is  51.87\n",
      "99 perncentile is  60.42\n",
      "100 perncentile is  5563.1\n",
      "\n",
      "------------ data_2022_08 -------------\n",
      "\n",
      " 90 perncentile is  30.23\n",
      "91 perncentile is  31.73\n",
      "92 perncentile is  33.47\n",
      "93 perncentile is  35.5\n",
      "94 perncentile is  37.9\n",
      "95 perncentile is  40.75\n",
      "96 perncentile is  44.13\n",
      "97 perncentile is  48.3\n",
      "98 perncentile is  53.72\n",
      "99 perncentile is  62.02\n",
      "100 perncentile is  7198.47\n"
     ]
    }
   ],
   "source": [
    "counter = 0\n",
    "for i in data_records:\n",
    "  counter = counter + 1\n",
    "  data_name =['data_2021_06','data_2021_07','data_2021_08','data_2022_06','data_2022_07','data_2022_08']\n",
    "  print(\"\")    \n",
    "  print(\"------------ {} -------------\".format(data_name[counter-1]))\n",
    "  print(\"\")  \n",
    "  print(end=\" \")\n",
    "  for j in range(90,100,1):\n",
    "    print(\"{} perncentile is \".format(j),np.percentile(i['time_taken'],j))\n",
    "  print(\"{} perncentile is \".format(100),np.percentile(i['time_taken'],100))"
   ]
  },
  {
   "cell_type": "code",
   "execution_count": 64,
   "metadata": {},
   "outputs": [
    {
     "name": "stdout",
     "output_type": "stream",
     "text": [
      "\n",
      "------------ data_2021_06 -------------\n",
      " \n",
      "99.0 perncetile is  60.05\n",
      "99.1 perncetile is  61.8\n",
      "99.2 perncetile is  63.85\n",
      "99.3 perncetile is  66.23\n",
      "99.4 perncetile is  69.12\n",
      "99.5 perncetile is  72.82\n",
      "99.6 perncetile is  78.22\n",
      "99.7 perncetile is  87.97285000000149\n",
      "99.8 perncetile is  552.4541999999899\n",
      "99.9 perncetile is  1426.4\n",
      "\n",
      "------------ data_2021_07 -------------\n",
      " \n",
      "99.0 perncetile is  56.55\n",
      "99.1 perncetile is  58.1\n",
      "99.2 perncetile is  59.87\n",
      "99.3 perncetile is  61.95\n",
      "99.4 perncetile is  64.57\n",
      "99.5 perncetile is  67.97\n",
      "99.6 perncetile is  72.9029600000009\n",
      "99.7 perncetile is  82.92\n",
      "99.8 perncetile is  887.6701800000016\n",
      "99.9 perncetile is  1425.38\n",
      "\n",
      "------------ data_2021_08 -------------\n",
      " \n",
      "99.0 perncetile is  56.23\n",
      "99.1 perncetile is  57.62\n",
      "99.2 perncetile is  59.23\n",
      "99.3 perncetile is  61.13\n",
      "99.4 perncetile is  63.53\n",
      "99.5 perncetile is  66.53\n",
      "99.6 perncetile is  70.88775999999605\n",
      "99.7 perncetile is  79.25\n",
      "99.8 perncetile is  630.8293800001032\n",
      "99.9 perncetile is  1423.6709700000008\n",
      "\n",
      "------------ data_2022_06 -------------\n",
      " \n",
      "99.0 perncetile is  71.42\n",
      "99.1 perncetile is  73.13\n",
      "99.2 perncetile is  75.12\n",
      "99.3 perncetile is  77.3\n",
      "99.4 perncetile is  79.8\n",
      "99.5 perncetile is  82.75\n",
      "99.6 perncetile is  86.58\n",
      "99.7 perncetile is  92.22\n",
      "99.8 perncetile is  103.98400000000373\n",
      "99.9 perncetile is  1400.6260000000057\n",
      "\n",
      "------------ data_2022_07 -------------\n",
      " \n",
      "99.0 perncetile is  60.42\n",
      "99.1 perncetile is  61.7\n",
      "99.2 perncetile is  63.2\n",
      "99.3 perncetile is  64.93\n",
      "99.4 perncetile is  66.98\n",
      "99.5 perncetile is  69.4\n",
      "99.6 perncetile is  72.6399199999962\n",
      "99.7 perncetile is  77.45\n",
      "99.8 perncetile is  88.56240000000689\n",
      "99.9 perncetile is  1391.5\n",
      "\n",
      "------------ data_2022_08 -------------\n",
      " \n",
      "99.0 perncetile is  62.02\n",
      "99.1 perncetile is  63.23\n",
      "99.2 perncetile is  64.58\n",
      "99.3 perncetile is  66.18\n",
      "99.4 perncetile is  68.02\n",
      "99.5 perncetile is  70.25\n",
      "99.6 perncetile is  73.28\n",
      "99.7 perncetile is  77.85\n",
      "99.8 perncetile is  87.3\n",
      "99.9 perncetile is  1385.0731000000144\n",
      "100 perncetile is  7198.47\n"
     ]
    }
   ],
   "source": [
    "counter = 0\n",
    "for i in data_records:\n",
    "  counter = counter + 1\n",
    "  data_name =['data_2021_06','data_2021_07','data_2021_08','data_2022_06','data_2022_07','data_2022_08']\n",
    "  print(\"\") \n",
    "  print(\"------------ {} -------------\".format(data_name[counter-1]))\n",
    "  print(end=\" \")\n",
    "  print(\"\") \n",
    "  for j in np.arange(0.0,1.0,0.1):\n",
    "    print(\"{} perncetile is \".format(float(99+j)),np.percentile(i['time_taken'],float(99+j)))\n",
    "print(\"{} perncetile is \".format(100),np.percentile(i['time_taken'],100))"
   ]
  },
  {
   "cell_type": "code",
   "execution_count": 65,
   "metadata": {},
   "outputs": [],
   "source": [
    "# counter = 0\n",
    "# plt.figure(figsize=(12,7))\n",
    "# data_records = [data_2021_06,data_2021_07,data_2021_08,data_2022_06,data_2022_07,data_2022_08]\n",
    "# for i in data_records:\n",
    "#     data_name =['data_2021_06','data_2021_07','data_2021_08','data_2022_06','data_2022_07','data_2022_08']\n",
    "#     counter = counter + 1\n",
    "#     plt.subplot(2,3,counter)\n",
    "#     sns.distplot(i['time_taken'])\n",
    "#     plt.axvline(i['time_taken'].mean(), color='red', linestyle='--',label='Average')\n",
    "#     plt.axvline(i['time_taken'].median(), color='black', linestyle='-',label='Median')\n",
    "#     plt.tight_layout() \n",
    "#     plt.title(\"{}\".format(data_name[counter-1]))\n",
    "#     plt.xlabel('Distances in Miles') "
   ]
  },
  {
   "cell_type": "code",
   "execution_count": 66,
   "metadata": {
    "colab": {
     "base_uri": "https://localhost:8080/"
    },
    "id": "JViyP6-A_8UD",
    "outputId": "7d31d257-f369-46b7-c0c4-7c560222a162"
   },
   "outputs": [
    {
     "name": "stdout",
     "output_type": "stream",
     "text": [
      "data_2021_06 \n",
      "(16.393984612653362, 16.59062703191625)\n",
      "\n",
      "**************************************************\n",
      "\n",
      "data_2021_07 \n",
      "(16.20667380230527, 16.4067479754583)\n",
      "\n",
      "**************************************************\n",
      "\n",
      "data_2021_08 \n",
      "(16.152007590288175, 16.352012034573686)\n",
      "\n",
      "**************************************************\n",
      "\n",
      "data_2022_06 \n",
      "(342.7993707421728, 525.265232866928)\n",
      "\n",
      "**************************************************\n",
      "\n",
      "data_2022_07 \n",
      "(16.65814465335351, 16.804218017206786)\n",
      "\n",
      "**************************************************\n",
      "\n",
      "data_2022_08 \n",
      "(16.820035807827654, 16.964557394604565)\n",
      "\n",
      "**************************************************\n",
      "\n"
     ]
    }
   ],
   "source": [
    "\n",
    "# create 99% confidence interval\n",
    "# for population mean weight\n",
    "data_records = [data_2021_06,data_2021_07,data_2021_08,data_2022_06,data_2022_07,data_2022_08]\n",
    "counter = 0\n",
    "for i in data_records:\n",
    "    counter = counter + 1\n",
    "    data_name =['data_2021_06','data_2021_07','data_2021_08','data_2022_06','data_2022_07','data_2022_08']\n",
    "    print(\"{} \".format(data_name[counter-1]))\n",
    "    print(\"{}\".format(st.norm.interval(alpha=0.99,loc=np.mean(i['time_taken']),scale=st.sem(i['time_taken']))))\n",
    "    print('')\n",
    "    print(\"*\"*50)\n",
    "    print('')\n"
   ]
  },
  {
   "cell_type": "code",
   "execution_count": 67,
   "metadata": {
    "tags": []
   },
   "outputs": [
    {
     "name": "stdout",
     "output_type": "stream",
     "text": [
      "\n",
      "------------ data_2021_06 -------------\n",
      " \n",
      "50 ------ : 1.8893196440349147\n",
      "55 ------ : 1.368806745876705\n",
      "60 ------ : 1.0056848354411119\n",
      "65 ------ : 0.7513924043153652\n",
      "70 ------ : 0.5765340451256429\n",
      "75 ------ : 0.4568105392136923\n",
      "80 ------ : 0.377413396181403\n",
      "85 ------ : 0.32486356616514556\n",
      "90 ------ : 0.29092590363181126\n",
      "95 ------ : 0.2663681826474029\n",
      "100 ------ : 0.2515966211530274\n",
      "\n",
      "------------ data_2021_07 -------------\n",
      " \n",
      "50 ------ : 1.6045233979508189\n",
      "55 ------ : 1.1177156498050067\n",
      "60 ------ : 0.7966249385165214\n",
      "65 ------ : 0.5891995948973716\n",
      "70 ------ : 0.457154295434703\n",
      "75 ------ : 0.37373768191110157\n",
      "80 ------ : 0.322653377554305\n",
      "85 ------ : 0.29218138537061566\n",
      "90 ------ : 0.27022964496966617\n",
      "95 ------ : 0.25679815635145653\n",
      "100 ------ : 0.2477942221530971\n",
      "\n",
      "------------ data_2021_08 -------------\n",
      " \n",
      "50 ------ : 1.654663716119531\n",
      "55 ------ : 1.1067948121894267\n",
      "60 ------ : 0.7618389194476438\n",
      "65 ------ : 0.5497180275209956\n",
      "70 ------ : 0.42069448553607725\n",
      "75 ------ : 0.3438992506898386\n",
      "80 ------ : 0.29752021205295964\n",
      "85 ------ : 0.27200985394187915\n",
      "90 ------ : 0.25593379986595943\n",
      "95 ------ : 0.2454805909949953\n",
      "100 ------ : 0.23865015487353203\n",
      "\n",
      "------------ data_2022_06 -------------\n",
      " \n",
      "50 ------ : 3.45936686937931\n",
      "55 ------ : 2.6093641965986403\n",
      "60 ------ : 1.9546935927167164\n",
      "65 ------ : 1.4662319722404726\n",
      "70 ------ : 1.0928021578541336\n",
      "75 ------ : 0.8098087252997876\n",
      "80 ------ : 0.5971839115546218\n",
      "85 ------ : 0.44154920793678665\n",
      "90 ------ : 0.33688720661120275\n",
      "95 ------ : 0.2694688702842618\n",
      "100 ------ : 0.22571121525056803\n",
      "\n",
      "------------ data_2022_07 -------------\n",
      " \n",
      "50 ------ : 2.321319048660897\n",
      "55 ------ : 1.562077644457216\n",
      "60 ------ : 1.0388417924814042\n",
      "65 ------ : 0.7000280741614406\n",
      "70 ------ : 0.4828690553941306\n",
      "75 ------ : 0.34862826256155666\n",
      "80 ------ : 0.27024233446597545\n",
      "85 ------ : 0.22436504626693887\n",
      "90 ------ : 0.19622567191315277\n",
      "95 ------ : 0.1792051001719308\n",
      "100 ------ : 0.16886885258196038\n",
      "\n",
      "------------ data_2022_08 -------------\n",
      " \n",
      "50 ------ : 2.662473383116315\n",
      "55 ------ : 1.8067753256990726\n",
      "60 ------ : 1.1919130466069405\n",
      "65 ------ : 0.7751359873351071\n",
      "70 ------ : 0.5144458945399055\n",
      "75 ------ : 0.3605504257065961\n",
      "80 ------ : 0.2689654495677485\n",
      "85 ------ : 0.21878996621168545\n",
      "90 ------ : 0.19030049684849448\n",
      "95 ------ : 0.1717218302603296\n",
      "100 ------ : 0.16105872232416996\n"
     ]
    }
   ],
   "source": [
    "counter = 0\n",
    "for i in data_records:\n",
    "  counter = counter + 1\n",
    "  data_name =['data_2021_06','data_2021_07','data_2021_08','data_2022_06','data_2022_07','data_2022_08']\n",
    "  print(\"\") \n",
    "  print(\"------------ {} -------------\".format(data_name[counter-1]))\n",
    "  print(end=\" \")\n",
    "  print(\"\")\n",
    "  for j in range(50,105,5): \n",
    "    print(\"{} ------ :\".format(j),(1-(len(i [(i ['time_taken']<j) & (i ['time_taken']>0)])/len(i)))*100)"
   ]
  },
  {
   "cell_type": "code",
   "execution_count": 69,
   "metadata": {
    "id": "Me4G586w9oI3"
   },
   "outputs": [],
   "source": [
    "def fixed_time(df):\n",
    "    return df[(df['time_taken']<75) & (df['time_taken']>0)]"
   ]
  },
  {
   "cell_type": "code",
   "execution_count": 70,
   "metadata": {},
   "outputs": [],
   "source": [
    "data_2021_06 = fixed_time(data_2021_06)\n",
    "data_2021_07 = fixed_time(data_2021_07)\n",
    "data_2021_08 = fixed_time(data_2021_08)\n",
    "data_2022_06 = fixed_time(data_2022_06)\n",
    "data_2022_07 = fixed_time(data_2022_07)\n",
    "data_2022_08 = fixed_time(data_2022_08)"
   ]
  },
  {
   "cell_type": "code",
   "execution_count": null,
   "metadata": {},
   "outputs": [],
   "source": [
    "# counter = 0\n",
    "# plt.figure(figsize=(12,7))\n",
    "# data_records = [data_2021_06,data_2021_07,data_2021_08,data_2022_06,data_2022_07,data_2022_08]\n",
    "# for i in data_records:\n",
    "#     data_name =['data_2021_06','data_2021_07','data_2021_08','data_2022_06','data_2022_07','data_2022_08']\n",
    "#     counter = counter + 1\n",
    "#     plt.subplot(2,3,counter)\n",
    "#     sns.distplot(i['time_taken'])\n",
    "#     plt.axvline(i['time_taken'].mean(), color='red', linestyle='--',label='Average')\n",
    "#     plt.axvline(i['time_taken'].median(), color='black', linestyle='-',label='Median')\n",
    "#     plt.tight_layout() \n",
    "#     plt.title(\"{}\".format(data_name[counter-1]))\n",
    "#     plt.xlabel('Distances in Miles') "
   ]
  },
  {
   "cell_type": "code",
   "execution_count": 71,
   "metadata": {},
   "outputs": [],
   "source": [
    "# counter = 0\n",
    "# plt.figure(figsize=(6,3.5))\n",
    "# data_records = [data_2021_06,data_2021_07,data_2021_08,data_2022_06,data_2022_07,data_2022_08]\n",
    "# for i in data_records:\n",
    "#     data_name =['data_2021_06','data_2021_07','data_2021_08','data_2022_06','data_2022_07','data_2022_08']\n",
    "#     counter = counter + 1\n",
    "#     # plt.subplot(2,3,counter)\n",
    "#     f, (ax_box, ax_dist) = plt.subplots(2)\n",
    "#     sns.set(style=\"ticks\")\n",
    "#     sns.boxplot(data=i, x=\"time_taken\",ax=ax_box)\n",
    "#     ax_box.axvline(i['time_taken'].mean(), color='r', linestyle='--')\n",
    "#     ax_box.axvline(i['time_taken'].median(), color='g', linestyle='-')\n",
    "#     ax_box.axvline(i['time_taken'].mode().values[0], color='yellow', linestyle='-')\n",
    "#     sns.histplot(data=i, x='time_taken', ax=ax_dist)\n",
    "#     ax_dist.axvline(i['time_taken'].mean(), color='red', linestyle='--',label='Average')\n",
    "#     ax_dist.axvline(i['time_taken'].median(), color='black', linestyle='-',label='Median')\n",
    "#     ax_dist.axvline(i['time_taken'].mode().values[0], color='yellow', linestyle='-',label='Mode')\n",
    "#     plt.title(\"{}\".format(data_name[counter-1]))\n",
    "#     plt.legend()\n",
    "#     plt.tight_layout()\n",
    "#     plt.show()\n"
   ]
  },
  {
   "cell_type": "markdown",
   "metadata": {
    "id": "eAl8ICmeJ69q",
    "tags": []
   },
   "source": [
    "## Fare Amount"
   ]
  },
  {
   "cell_type": "code",
   "execution_count": 72,
   "metadata": {
    "colab": {
     "base_uri": "https://localhost:8080/"
    },
    "id": "FADAMGTcBsfA",
    "outputId": "f23f9c41-9020-42ae-a976-309756e10bad"
   },
   "outputs": [
    {
     "name": "stdout",
     "output_type": "stream",
     "text": [
      "\n",
      "------------ data_2021_06 -------------\n",
      "\n",
      " 0 perncentile is  -624.0\n",
      "10 perncentile is  5.0\n",
      "20 perncentile is  6.0\n",
      "30 perncentile is  7.0\n",
      "40 perncentile is  8.0\n",
      "50 perncentile is  9.5\n",
      "60 perncentile is  11.0\n",
      "70 perncentile is  12.5\n",
      "80 perncentile is  16.0\n",
      "90 perncentile is  24.0\n",
      "100 perncentile is  624.0\n",
      "\n",
      "------------ data_2021_07 -------------\n",
      "\n",
      " 0 perncentile is  -550.0\n",
      "10 perncentile is  5.0\n",
      "20 perncentile is  6.0\n",
      "30 perncentile is  7.0\n",
      "40 perncentile is  8.0\n",
      "50 perncentile is  9.5\n",
      "60 perncentile is  11.0\n",
      "70 perncentile is  13.0\n",
      "80 perncentile is  16.5\n",
      "90 perncentile is  25.5\n",
      "100 perncentile is  1320.0\n",
      "\n",
      "------------ data_2021_08 -------------\n",
      "\n",
      " 0 perncentile is  -400.0\n",
      "10 perncentile is  5.0\n",
      "20 perncentile is  6.0\n",
      "30 perncentile is  7.0\n",
      "40 perncentile is  8.0\n",
      "50 perncentile is  9.5\n",
      "60 perncentile is  11.0\n",
      "70 perncentile is  13.0\n",
      "80 perncentile is  16.5\n",
      "90 perncentile is  26.5\n",
      "100 perncentile is  900.0\n",
      "\n",
      "------------ data_2022_06 -------------\n",
      "\n",
      " 0 perncentile is  -700.0\n",
      "10 perncentile is  5.5\n",
      "20 perncentile is  6.5\n",
      "30 perncentile is  7.5\n",
      "40 perncentile is  9.0\n",
      "50 perncentile is  10.5\n",
      "60 perncentile is  12.0\n",
      "70 perncentile is  14.5\n",
      "80 perncentile is  19.0\n",
      "90 perncentile is  31.0\n",
      "100 perncentile is  395844.94\n",
      "\n",
      "------------ data_2022_07 -------------\n",
      "\n",
      " 0 perncentile is  -502.5\n",
      "10 perncentile is  5.0\n",
      "20 perncentile is  6.5\n",
      "30 perncentile is  7.5\n",
      "40 perncentile is  8.5\n",
      "50 perncentile is  10.0\n",
      "60 perncentile is  11.5\n",
      "70 perncentile is  14.0\n",
      "80 perncentile is  18.5\n",
      "90 perncentile is  31.0\n",
      "100 perncentile is  900.0\n",
      "\n",
      "------------ data_2022_08 -------------\n",
      "\n",
      " 0 perncentile is  -900.0\n",
      "10 perncentile is  5.0\n",
      "20 perncentile is  6.5\n",
      "30 perncentile is  7.5\n",
      "40 perncentile is  8.5\n",
      "50 perncentile is  10.0\n",
      "60 perncentile is  11.5\n",
      "70 perncentile is  14.0\n",
      "80 perncentile is  18.5\n",
      "90 perncentile is  31.5\n",
      "100 perncentile is  1136.5\n"
     ]
    }
   ],
   "source": [
    "counter = 0\n",
    "for i in data_records:\n",
    "  counter = counter + 1\n",
    "  data_name =['data_2021_06','data_2021_07','data_2021_08','data_2022_06','data_2022_07','data_2022_08']\n",
    "  print(\"\")    \n",
    "  print(\"------------ {} -------------\".format(data_name[counter-1]))\n",
    "  print(\"\")  \n",
    "  print(end=\" \")\n",
    "  for j in range(0,100,10):\n",
    "    print(\"{} perncentile is \".format(j),np.percentile(i['fare_amount'],j))\n",
    "  print(\"{} perncentile is \".format(100),np.percentile(i['fare_amount'],100))\n"
   ]
  },
  {
   "cell_type": "code",
   "execution_count": 73,
   "metadata": {},
   "outputs": [
    {
     "name": "stdout",
     "output_type": "stream",
     "text": [
      "\n",
      "------------ data_2021_06 -------------\n",
      "\n",
      " 90 perncentile is  24.0\n",
      "91 perncentile is  25.5\n",
      "92 perncentile is  27.0\n",
      "93 perncentile is  29.5\n",
      "94 perncentile is  32.0\n",
      "95 perncentile is  35.0\n",
      "96 perncentile is  40.5\n",
      "97 perncentile is  51.5\n",
      "98 perncentile is  52.0\n",
      "99 perncentile is  52.0\n",
      "100 perncentile is  624.0\n",
      "\n",
      "------------ data_2021_07 -------------\n",
      "\n",
      " 90 perncentile is  25.5\n",
      "91 perncentile is  27.0\n",
      "92 perncentile is  29.0\n",
      "93 perncentile is  31.5\n",
      "94 perncentile is  34.0\n",
      "95 perncentile is  38.5\n",
      "96 perncentile is  46.0\n",
      "97 perncentile is  52.0\n",
      "98 perncentile is  52.0\n",
      "99 perncentile is  52.0\n",
      "100 perncentile is  1320.0\n",
      "\n",
      "------------ data_2021_08 -------------\n",
      "\n",
      " 90 perncentile is  26.5\n",
      "91 perncentile is  28.5\n",
      "92 perncentile is  30.5\n",
      "93 perncentile is  33.0\n",
      "94 perncentile is  36.0\n",
      "95 perncentile is  41.0\n",
      "96 perncentile is  51.0\n",
      "97 perncentile is  52.0\n",
      "98 perncentile is  52.0\n",
      "99 perncentile is  53.5\n",
      "100 perncentile is  900.0\n",
      "\n",
      "------------ data_2022_06 -------------\n",
      "\n",
      " 90 perncentile is  31.0\n",
      "91 perncentile is  33.5\n",
      "92 perncentile is  36.0\n",
      "93 perncentile is  39.5\n",
      "94 perncentile is  45.5\n",
      "95 perncentile is  52.0\n",
      "96 perncentile is  52.0\n",
      "97 perncentile is  52.0\n",
      "98 perncentile is  52.0\n",
      "99 perncentile is  60.5\n",
      "100 perncentile is  395844.94\n",
      "\n",
      "------------ data_2022_07 -------------\n",
      "\n",
      " 90 perncentile is  31.0\n",
      "91 perncentile is  33.0\n",
      "92 perncentile is  35.5\n",
      "93 perncentile is  39.2\n",
      "94 perncentile is  45.5\n",
      "95 perncentile is  52.0\n",
      "96 perncentile is  52.0\n",
      "97 perncentile is  52.0\n",
      "98 perncentile is  52.0\n",
      "99 perncentile is  60.0\n",
      "100 perncentile is  900.0\n",
      "\n",
      "------------ data_2022_08 -------------\n",
      "\n",
      " 90 perncentile is  31.5\n",
      "91 perncentile is  33.5\n",
      "92 perncentile is  36.0\n",
      "93 perncentile is  40.2\n",
      "94 perncentile is  47.0\n",
      "95 perncentile is  52.0\n",
      "96 perncentile is  52.0\n",
      "97 perncentile is  52.0\n",
      "98 perncentile is  52.0\n",
      "99 perncentile is  61.0\n",
      "100 perncentile is  1136.5\n"
     ]
    }
   ],
   "source": [
    "counter = 0\n",
    "for i in data_records:\n",
    "  counter = counter + 1\n",
    "  data_name =['data_2021_06','data_2021_07','data_2021_08','data_2022_06','data_2022_07','data_2022_08']\n",
    "  print(\"\")    \n",
    "  print(\"------------ {} -------------\".format(data_name[counter-1]))\n",
    "  print(\"\")  \n",
    "  print(end=\" \")\n",
    "  for j in range(90,100,1):\n",
    "    print(\"{} perncentile is \".format(j),np.percentile(i['fare_amount'],j))\n",
    "  print(\"{} perncentile is \".format(100),np.percentile(i['fare_amount'],100))"
   ]
  },
  {
   "cell_type": "code",
   "execution_count": 74,
   "metadata": {
    "colab": {
     "base_uri": "https://localhost:8080/"
    },
    "id": "KXPewR2XBST9",
    "outputId": "878bd9b4-3424-479a-e345-87982ea0c459"
   },
   "outputs": [
    {
     "name": "stdout",
     "output_type": "stream",
     "text": [
      "\n",
      "------------ data_2021_06 -------------\n",
      " \n",
      "99.0 perncetile is  52.0\n",
      "99.1 perncetile is  52.0\n",
      "99.2 perncetile is  52.5\n",
      "99.3 perncetile is  55.0\n",
      "99.4 perncetile is  57.5\n",
      "99.5 perncetile is  61.0\n",
      "99.6 perncetile is  64.5\n",
      "99.7 perncetile is  68.5\n",
      "99.8 perncetile is  75.0\n",
      "99.9 perncetile is  93.5\n",
      "\n",
      "------------ data_2021_07 -------------\n",
      " \n",
      "99.0 perncetile is  52.0\n",
      "99.1 perncetile is  53.5\n",
      "99.2 perncetile is  55.5\n",
      "99.3 perncetile is  58.0\n",
      "99.4 perncetile is  61.0\n",
      "99.5 perncetile is  64.0\n",
      "99.6 perncetile is  67.0\n",
      "99.7 perncetile is  70.5\n",
      "99.8 perncetile is  80.0\n",
      "99.9 perncetile is  100.0\n",
      "\n",
      "------------ data_2021_08 -------------\n",
      " \n",
      "99.0 perncetile is  53.5\n",
      "99.1 perncetile is  55.0\n",
      "99.2 perncetile is  57.5\n",
      "99.3 perncetile is  60.0\n",
      "99.4 perncetile is  63.0\n",
      "99.5 perncetile is  65.0\n",
      "99.6 perncetile is  68.39491999998224\n",
      "99.7 perncetile is  73.0\n",
      "99.8 perncetile is  81.0\n",
      "99.9 perncetile is  105.0\n",
      "\n",
      "------------ data_2022_06 -------------\n",
      " \n",
      "99.0 perncetile is  60.5\n",
      "99.1 perncetile is  63.2\n",
      "99.2 perncetile is  65.0\n",
      "99.3 perncetile is  66.5\n",
      "99.4 perncetile is  68.2\n",
      "99.5 perncetile is  70.5\n",
      "99.6 perncetile is  75.0\n",
      "99.7 perncetile is  80.0\n",
      "99.8 perncetile is  90.0\n",
      "99.9 perncetile is  118.1500000001397\n",
      "\n",
      "------------ data_2022_07 -------------\n",
      " \n",
      "99.0 perncetile is  60.0\n",
      "99.1 perncetile is  62.5\n",
      "99.2 perncetile is  65.0\n",
      "99.3 perncetile is  65.5\n",
      "99.4 perncetile is  68.0\n",
      "99.5 perncetile is  70.0\n",
      "99.6 perncetile is  73.5\n",
      "99.7 perncetile is  79.0\n",
      "99.8 perncetile is  90.0\n",
      "99.9 perncetile is  119.0\n",
      "\n",
      "------------ data_2022_08 -------------\n",
      " \n",
      "99.0 perncetile is  61.0\n",
      "99.1 perncetile is  63.5\n",
      "99.2 perncetile is  65.0\n",
      "99.3 perncetile is  66.5\n",
      "99.4 perncetile is  68.0\n",
      "99.5 perncetile is  70.5\n",
      "99.6 perncetile is  75.0\n",
      "99.7 perncetile is  80.0\n",
      "99.8 perncetile is  92.0\n",
      "99.9 perncetile is  120.0\n",
      "100 perncetile is  1136.5\n"
     ]
    }
   ],
   "source": [
    "counter = 0\n",
    "for i in data_records:\n",
    "  counter = counter + 1\n",
    "  data_name =['data_2021_06','data_2021_07','data_2021_08','data_2022_06','data_2022_07','data_2022_08']\n",
    "  print(\"\") \n",
    "  print(\"------------ {} -------------\".format(data_name[counter-1]))\n",
    "  print(end=\" \")\n",
    "  print(\"\") \n",
    "  for j in np.arange(0.0,1.0,0.1):\n",
    "    print(\"{} perncetile is \".format(float(99+j)),np.percentile(i['fare_amount'],float(99+j)))\n",
    "print(\"{} perncetile is \".format(100),np.percentile(i['fare_amount'],100))"
   ]
  },
  {
   "cell_type": "code",
   "execution_count": 75,
   "metadata": {},
   "outputs": [],
   "source": [
    "# counter = 0\n",
    "# plt.figure(figsize=(12,9))\n",
    "# for i in data_records:\n",
    "#     data_name =['data_2021_06','data_2021_07','data_2021_08','data_2022_06','data_2022_07','data_2022_08']\n",
    "#     counter = counter + 1\n",
    "#     plt.subplot(2,3,counter)\n",
    "#     # val = round((i['passenger_count'].value_counts()/len(i)*100),2)\n",
    "#     # bars = plt.bar(i['passenger_count'].value_counts().index,val)\n",
    "#     plt.boxplot(i['fare_amount'])\n",
    "#     plt.tight_layout() \n",
    "#     plt.title(\"{}\".format(data_name[counter-1]))\n",
    "#     plt.xlabel('Number of passenger')\n",
    "#     plt.ylabel('Total number of Customer in %')\n"
   ]
  },
  {
   "cell_type": "code",
   "execution_count": 77,
   "metadata": {},
   "outputs": [
    {
     "name": "stdout",
     "output_type": "stream",
     "text": [
      "\n",
      "------------ data_2021_06 -------------\n",
      " \n",
      "50 ------ : 3.6064398099490913\n",
      "60 ------ : 1.0386992753810498\n",
      "70 ------ : 0.7729958130008985\n",
      "80 ------ : 0.6632061821939206\n",
      "90 ------ : 0.6105455654664582\n",
      "100 ------ : 0.5812978737075758\n",
      "110 ------ : 0.5598791095407285\n",
      "120 ------ : 0.5453660503724977\n",
      "130 ------ : 0.5326625074873359\n",
      "140 ------ : 0.526163020429804\n",
      "150 ------ : 0.5214361207516061\n",
      "160 ------ : 0.5131271174110164\n",
      "170 ------ : 0.5095819426523707\n",
      "180 ------ : 0.5071446350057962\n",
      "190 ------ : 0.5054459054339433\n",
      "\n",
      "------------ data_2021_07 -------------\n",
      " \n",
      "50 ------ : 4.267753191001722\n",
      "60 ------ : 1.1820454110816891\n",
      "70 ------ : 0.8612895568501755\n",
      "80 ------ : 0.7333369547503965\n",
      "90 ------ : 0.6726162084209841\n",
      "100 ------ : 0.6384607886106952\n",
      "110 ------ : 0.6119698747709013\n",
      "120 ------ : 0.5937387683362161\n",
      "130 ------ : 0.5770703281673617\n",
      "140 ------ : 0.568661695403605\n",
      "150 ------ : 0.561704109886696\n",
      "160 ------ : 0.5518816362157564\n",
      "170 ------ : 0.5473052564372582\n",
      "180 ------ : 0.5436218288106587\n",
      "190 ------ : 0.5412778294119125\n",
      "\n",
      "------------ data_2021_08 -------------\n",
      " \n",
      "50 ------ : 4.612921826602023\n",
      "60 ------ : 1.2412902505147372\n",
      "70 ------ : 0.8899190310290517\n",
      "80 ------ : 0.7451590699134814\n",
      "90 ------ : 0.682892663281387\n",
      "100 ------ : 0.647042307947765\n",
      "110 ------ : 0.6169657466836509\n",
      "120 ------ : 0.5964744383192722\n",
      "130 ------ : 0.5773794069521054\n",
      "140 ------ : 0.5667752492165778\n",
      "150 ------ : 0.5596429153659876\n",
      "160 ------ : 0.5487368599013442\n",
      "170 ------ : 0.5445102916935896\n",
      "180 ------ : 0.5407365700795252\n",
      "190 ------ : 0.5371137973300133\n",
      "\n",
      "------------ data_2022_06 -------------\n",
      " \n",
      "50 ------ : 6.323477734568639\n",
      "60 ------ : 1.7389724429010767\n",
      "70 ------ : 1.2452528932485607\n",
      "80 ------ : 1.0019276152574585\n",
      "90 ------ : 0.9094464831902571\n",
      "100 ------ : 0.8606061632861595\n",
      "110 ------ : 0.8235961840286854\n",
      "120 ------ : 0.7968099559473196\n",
      "130 ------ : 0.7707247850894494\n",
      "140 ------ : 0.757550751431102\n",
      "150 ------ : 0.7476483181491189\n",
      "160 ------ : 0.7332182236319928\n",
      "170 ------ : 0.7266458121616526\n",
      "180 ------ : 0.7214463044206587\n",
      "190 ------ : 0.7180286504560818\n",
      "\n",
      "------------ data_2022_07 -------------\n",
      " \n",
      "50 ------ : 6.389887823998164\n",
      "60 ------ : 1.7510320759521858\n",
      "70 ------ : 1.2523162813507072\n",
      "80 ------ : 1.0255057506381893\n",
      "90 ------ : 0.9469567902462339\n",
      "100 ------ : 0.9002643405653377\n",
      "110 ------ : 0.8637777126373147\n",
      "120 ------ : 0.8351492413944173\n",
      "130 ------ : 0.8103031194273469\n",
      "140 ------ : 0.7968366517470349\n",
      "150 ------ : 0.7861417331050391\n",
      "160 ------ : 0.7704580261940763\n",
      "170 ------ : 0.7637737020428248\n",
      "180 ------ : 0.7581653910476382\n",
      "190 ------ : 0.7540569771790628\n",
      "\n",
      "------------ data_2022_08 -------------\n",
      " \n",
      "50 ------ : 6.562259793868385\n",
      "60 ------ : 1.8448485086367872\n",
      "70 ------ : 1.3228468535654403\n",
      "80 ------ : 1.0834175588024575\n",
      "90 ------ : 0.9966080849908576\n",
      "100 ------ : 0.9431617096298361\n",
      "110 ------ : 0.9047941464116693\n",
      "120 ------ : 0.8795755690534368\n",
      "130 ------ : 0.8521327851318317\n",
      "140 ------ : 0.8384277476310542\n",
      "150 ------ : 0.8287459072963799\n",
      "160 ------ : 0.8124895740317384\n",
      "170 ------ : 0.8049665224203251\n",
      "180 ------ : 0.7990789168114021\n",
      "190 ------ : 0.7949575928851593\n"
     ]
    }
   ],
   "source": [
    "counter = 0\n",
    "for i in data_records:\n",
    "  counter = counter + 1\n",
    "  data_name =['data_2021_06','data_2021_07','data_2021_08','data_2022_06','data_2022_07','data_2022_08']\n",
    "  print(\"\") \n",
    "  print(\"------------ {} -------------\".format(data_name[counter-1]))\n",
    "  print(end=\" \")\n",
    "  print(\"\")\n",
    "  for j in range(50,200,10): \n",
    "    print(\"{} ------ :\".format(j),(1-(len(i [(i ['fare_amount']<j) & (i ['fare_amount']>0)])/len(i)))*100)"
   ]
  },
  {
   "cell_type": "code",
   "execution_count": 78,
   "metadata": {},
   "outputs": [],
   "source": [
    "def fix_amount(df):\n",
    "    return df[(df['fare_amount']<=100) & (df['fare_amount']> 0) ]"
   ]
  },
  {
   "cell_type": "code",
   "execution_count": 79,
   "metadata": {},
   "outputs": [],
   "source": [
    "data_2021_06 = fix_amount(data_2021_06) \n",
    "data_2021_07 = fix_amount(data_2021_07)\n",
    "data_2021_08 = fix_amount(data_2021_08)\n",
    "data_2022_06 = fix_amount(data_2022_06)\n",
    "data_2022_07 = fix_amount(data_2022_07)\n",
    "data_2022_08 = fix_amount(data_2022_08)"
   ]
  },
  {
   "cell_type": "code",
   "execution_count": 80,
   "metadata": {},
   "outputs": [],
   "source": [
    "# counter = 0\n",
    "# plt.figure(figsize=(12,9))\n",
    "# data_records = [data_2021_06,data_2021_07,data_2021_08,data_2021_06,data_2021_07,data_2021_08]\n",
    "# for i in data_records:\n",
    "#     data_name =['data_2021_06','data_2021_07','data_2021_08','data_2022_06','data_2022_07','data_2022_08']\n",
    "#     counter = counter + 1\n",
    "#     plt.subplot(2,3,counter)\n",
    "#     # val = round((i['passenger_count'].value_counts()/len(i)*100),2)\n",
    "#     # bars = plt.bar(i['passenger_count'].value_counts().index,val)\n",
    "#     plt.boxplot(i['fare_amount'])\n",
    "#     plt.tight_layout() \n",
    "#     plt.title(\"{}\".format(data_name[counter-1]))\n",
    "#     plt.xlabel('Number of passenger')\n",
    "#     plt.ylabel('Total number of Customer in %')"
   ]
  },
  {
   "cell_type": "code",
   "execution_count": 81,
   "metadata": {},
   "outputs": [],
   "source": [
    "# import matplotlib.pylab as pylab\n",
    "# counter = 0\n",
    "# plt.figure(figsize=(12,7))\n",
    "# data_records = [data_2021_06,data_2021_07,data_2021_08,data_2022_06,data_2022_07,data_2022_08]\n",
    "# for i in data_records:\n",
    "#     data_name =['data_2021_06','data_2021_07','data_2021_08','data_2022_06','data_2022_07','data_2022_08']\n",
    "#     counter = counter + 1\n",
    "#     plt.subplot(2,3,counter)\n",
    "#     st.probplot(i['fare_amount'], dist=\"norm\", plot=pylab);\n",
    "#     plt.tight_layout() \n",
    "#     plt.title(\"{}\".format(data_name[counter-1]))"
   ]
  },
  {
   "cell_type": "code",
   "execution_count": 82,
   "metadata": {},
   "outputs": [],
   "source": [
    "# sns.kdeplot(data=data_2021_06['fare_amount'], cumulative=True , label = '2021_06', color = 'black' )\n",
    "# sns.kdeplot(data=data_2021_07['fare_amount'], cumulative=True , label = '2021_07', color ='green');\n",
    "# sns.kdeplot(data=data_2021_08['fare_amount'], cumulative=True , label = '2021_08', color ='red' );\n",
    "# sns.kdeplot(data=data_2022_06['fare_amount'], cumulative=True , label = '2022_06', color ='yellow');\n",
    "# sns.kdeplot(data=data_2022_07['fare_amount'], cumulative=True , label = '2022_07', color ='cyan');\n",
    "# sns.kdeplot(data=data_2022_08['fare_amount'], cumulative=True , label = '2022_08', color ='blue');\n",
    "# plt.legend()\n",
    "# plt.show()"
   ]
  },
  {
   "cell_type": "markdown",
   "metadata": {},
   "source": [
    "# EDA"
   ]
  },
  {
   "cell_type": "code",
   "execution_count": 84,
   "metadata": {},
   "outputs": [],
   "source": [
    "outside_NYC = data_2021_06[((data_2021_06.PUlatitude <= 40.5774) | (data_2021_06.PUlongitude <= -74.15) | (data_2021_06.PUlatitude >= 40.9176) | (data_2021_06.PUlongitude >= -73.7004))]"
   ]
  },
  {
   "cell_type": "code",
   "execution_count": 85,
   "metadata": {
    "id": "2cIWK0RjotDm"
   },
   "outputs": [],
   "source": [
    "import folium #open street map"
   ]
  },
  {
   "cell_type": "code",
   "execution_count": 86,
   "metadata": {},
   "outputs": [],
   "source": [
    "coords_1 = 40.76439,  -73.87402\n",
    "coords_2 = 37.7912,  -122.401"
   ]
  },
  {
   "cell_type": "code",
   "execution_count": 87,
   "metadata": {},
   "outputs": [
    {
     "data": {
      "text/plain": [
       "2576.6749841388237"
      ]
     },
     "execution_count": 87,
     "metadata": {},
     "output_type": "execute_result"
    }
   ],
   "source": [
    "import geopy.distance\n",
    "geopy.distance.geodesic(coords_1, coords_2).miles"
   ]
  },
  {
   "cell_type": "code",
   "execution_count": 88,
   "metadata": {},
   "outputs": [
    {
     "data": {
      "text/plain": [
       "2570.412805880194"
      ]
     },
     "execution_count": 88,
     "metadata": {},
     "output_type": "execute_result"
    }
   ],
   "source": [
    "import gpxpy\n",
    "from haversine import haversine, Unit\n",
    "haversine ((40.76439,-73.87402), (37.7912,-122.401), unit='mi')"
   ]
  },
  {
   "cell_type": "code",
   "execution_count": 89,
   "metadata": {},
   "outputs": [],
   "source": [
    "from sklearn.cluster import MiniBatchKMeans"
   ]
  },
  {
   "cell_type": "code",
   "execution_count": 91,
   "metadata": {},
   "outputs": [],
   "source": [
    "# locations = outside_NYC[['PUlatitude', 'PUlongitude']][:10000]\n",
    "# locationlist = locations.values.tolist()\n",
    "# map = folium.Map(location=[40.73,-73.93], zoom_start=12)\n",
    "# for point in range(0, len(locationlist)):\n",
    "#     folium.Marker(locationlist[point]).add_to(map)\n",
    "# map"
   ]
  },
  {
   "cell_type": "code",
   "execution_count": 92,
   "metadata": {},
   "outputs": [
    {
     "data": {
      "text/html": [
       "<div>\n",
       "<style scoped>\n",
       "    .dataframe tbody tr th:only-of-type {\n",
       "        vertical-align: middle;\n",
       "    }\n",
       "\n",
       "    .dataframe tbody tr th {\n",
       "        vertical-align: top;\n",
       "    }\n",
       "\n",
       "    .dataframe thead th {\n",
       "        text-align: right;\n",
       "    }\n",
       "</style>\n",
       "<table border=\"1\" class=\"dataframe\">\n",
       "  <thead>\n",
       "    <tr style=\"text-align: right;\">\n",
       "      <th></th>\n",
       "      <th>tpep_pickup_datetime</th>\n",
       "      <th>tpep_dropoff_datetime</th>\n",
       "      <th>passenger_count</th>\n",
       "      <th>trip_distance</th>\n",
       "      <th>time_taken</th>\n",
       "      <th>speed(miles/hours)</th>\n",
       "      <th>store_and_fwd_flag</th>\n",
       "      <th>PUlatitude</th>\n",
       "      <th>PUlongitude</th>\n",
       "      <th>DOlatitude</th>\n",
       "      <th>...</th>\n",
       "      <th>payment_type</th>\n",
       "      <th>fare_amount</th>\n",
       "      <th>extra</th>\n",
       "      <th>mta_tax</th>\n",
       "      <th>tip_amount</th>\n",
       "      <th>tolls_amount</th>\n",
       "      <th>improvement_surcharge</th>\n",
       "      <th>total_amount</th>\n",
       "      <th>congestion_surcharge</th>\n",
       "      <th>airport_fee</th>\n",
       "    </tr>\n",
       "  </thead>\n",
       "  <tbody>\n",
       "    <tr>\n",
       "      <th>0</th>\n",
       "      <td>2021-06-01 00:13:26</td>\n",
       "      <td>2021-06-01 00:17:14</td>\n",
       "      <td>1.0</td>\n",
       "      <td>0.90</td>\n",
       "      <td>3.80</td>\n",
       "      <td>14.21</td>\n",
       "      <td>N</td>\n",
       "      <td>36.262400</td>\n",
       "      <td>-86.713710</td>\n",
       "      <td>-28.606360</td>\n",
       "      <td>...</td>\n",
       "      <td>1</td>\n",
       "      <td>5.0</td>\n",
       "      <td>3.0</td>\n",
       "      <td>0.5</td>\n",
       "      <td>2.20</td>\n",
       "      <td>0.0</td>\n",
       "      <td>0.3</td>\n",
       "      <td>11.00</td>\n",
       "      <td>2.5</td>\n",
       "      <td>0.0</td>\n",
       "    </tr>\n",
       "    <tr>\n",
       "      <th>1</th>\n",
       "      <td>2021-05-31 23:57:36</td>\n",
       "      <td>2021-06-01 00:04:02</td>\n",
       "      <td>5.0</td>\n",
       "      <td>1.85</td>\n",
       "      <td>6.43</td>\n",
       "      <td>17.26</td>\n",
       "      <td>N</td>\n",
       "      <td>36.262400</td>\n",
       "      <td>-86.713710</td>\n",
       "      <td>-28.606360</td>\n",
       "      <td>...</td>\n",
       "      <td>1</td>\n",
       "      <td>7.5</td>\n",
       "      <td>0.5</td>\n",
       "      <td>0.5</td>\n",
       "      <td>2.82</td>\n",
       "      <td>0.0</td>\n",
       "      <td>0.3</td>\n",
       "      <td>14.12</td>\n",
       "      <td>2.5</td>\n",
       "      <td>0.0</td>\n",
       "    </tr>\n",
       "    <tr>\n",
       "      <th>2</th>\n",
       "      <td>2021-06-01 00:12:30</td>\n",
       "      <td>2021-06-01 00:16:25</td>\n",
       "      <td>2.0</td>\n",
       "      <td>0.90</td>\n",
       "      <td>3.92</td>\n",
       "      <td>13.78</td>\n",
       "      <td>N</td>\n",
       "      <td>36.262400</td>\n",
       "      <td>-86.713710</td>\n",
       "      <td>-28.606360</td>\n",
       "      <td>...</td>\n",
       "      <td>1</td>\n",
       "      <td>5.0</td>\n",
       "      <td>3.0</td>\n",
       "      <td>0.5</td>\n",
       "      <td>2.60</td>\n",
       "      <td>0.0</td>\n",
       "      <td>0.3</td>\n",
       "      <td>11.40</td>\n",
       "      <td>2.5</td>\n",
       "      <td>0.0</td>\n",
       "    </tr>\n",
       "    <tr>\n",
       "      <th>3</th>\n",
       "      <td>2021-06-01 00:35:02</td>\n",
       "      <td>2021-06-01 00:41:52</td>\n",
       "      <td>2.0</td>\n",
       "      <td>1.66</td>\n",
       "      <td>6.83</td>\n",
       "      <td>14.58</td>\n",
       "      <td>N</td>\n",
       "      <td>36.262400</td>\n",
       "      <td>-86.713710</td>\n",
       "      <td>-28.606360</td>\n",
       "      <td>...</td>\n",
       "      <td>1</td>\n",
       "      <td>7.5</td>\n",
       "      <td>0.5</td>\n",
       "      <td>0.5</td>\n",
       "      <td>0.00</td>\n",
       "      <td>0.0</td>\n",
       "      <td>0.3</td>\n",
       "      <td>11.30</td>\n",
       "      <td>2.5</td>\n",
       "      <td>0.0</td>\n",
       "    </tr>\n",
       "    <tr>\n",
       "      <th>4</th>\n",
       "      <td>2021-06-01 01:22:44</td>\n",
       "      <td>2021-06-01 01:28:20</td>\n",
       "      <td>1.0</td>\n",
       "      <td>1.90</td>\n",
       "      <td>5.60</td>\n",
       "      <td>20.36</td>\n",
       "      <td>N</td>\n",
       "      <td>36.262400</td>\n",
       "      <td>-86.713710</td>\n",
       "      <td>-28.606360</td>\n",
       "      <td>...</td>\n",
       "      <td>1</td>\n",
       "      <td>7.5</td>\n",
       "      <td>3.0</td>\n",
       "      <td>0.5</td>\n",
       "      <td>2.25</td>\n",
       "      <td>0.0</td>\n",
       "      <td>0.3</td>\n",
       "      <td>13.55</td>\n",
       "      <td>2.5</td>\n",
       "      <td>0.0</td>\n",
       "    </tr>\n",
       "    <tr>\n",
       "      <th>...</th>\n",
       "      <td>...</td>\n",
       "      <td>...</td>\n",
       "      <td>...</td>\n",
       "      <td>...</td>\n",
       "      <td>...</td>\n",
       "      <td>...</td>\n",
       "      <td>...</td>\n",
       "      <td>...</td>\n",
       "      <td>...</td>\n",
       "      <td>...</td>\n",
       "      <td>...</td>\n",
       "      <td>...</td>\n",
       "      <td>...</td>\n",
       "      <td>...</td>\n",
       "      <td>...</td>\n",
       "      <td>...</td>\n",
       "      <td>...</td>\n",
       "      <td>...</td>\n",
       "      <td>...</td>\n",
       "      <td>...</td>\n",
       "      <td>...</td>\n",
       "    </tr>\n",
       "    <tr>\n",
       "      <th>2834259</th>\n",
       "      <td>2021-06-12 17:58:58</td>\n",
       "      <td>2021-06-12 18:05:26</td>\n",
       "      <td>1.0</td>\n",
       "      <td>1.22</td>\n",
       "      <td>6.47</td>\n",
       "      <td>11.31</td>\n",
       "      <td>N</td>\n",
       "      <td>40.716260</td>\n",
       "      <td>-74.012580</td>\n",
       "      <td>52.730034</td>\n",
       "      <td>...</td>\n",
       "      <td>2</td>\n",
       "      <td>6.5</td>\n",
       "      <td>0.0</td>\n",
       "      <td>0.5</td>\n",
       "      <td>0.00</td>\n",
       "      <td>0.0</td>\n",
       "      <td>0.3</td>\n",
       "      <td>9.80</td>\n",
       "      <td>2.5</td>\n",
       "      <td>0.0</td>\n",
       "    </tr>\n",
       "    <tr>\n",
       "      <th>2834260</th>\n",
       "      <td>2021-06-15 18:23:17</td>\n",
       "      <td>2021-06-15 18:32:48</td>\n",
       "      <td>1.0</td>\n",
       "      <td>1.60</td>\n",
       "      <td>9.52</td>\n",
       "      <td>10.08</td>\n",
       "      <td>N</td>\n",
       "      <td>37.791200</td>\n",
       "      <td>-122.401000</td>\n",
       "      <td>52.730034</td>\n",
       "      <td>...</td>\n",
       "      <td>1</td>\n",
       "      <td>9.0</td>\n",
       "      <td>3.5</td>\n",
       "      <td>0.5</td>\n",
       "      <td>3.30</td>\n",
       "      <td>0.0</td>\n",
       "      <td>0.3</td>\n",
       "      <td>16.60</td>\n",
       "      <td>2.5</td>\n",
       "      <td>0.0</td>\n",
       "    </tr>\n",
       "    <tr>\n",
       "      <th>2834261</th>\n",
       "      <td>2021-06-15 18:37:40</td>\n",
       "      <td>2021-06-15 18:52:56</td>\n",
       "      <td>1.0</td>\n",
       "      <td>3.00</td>\n",
       "      <td>15.27</td>\n",
       "      <td>11.79</td>\n",
       "      <td>N</td>\n",
       "      <td>52.730034</td>\n",
       "      <td>-8.739338</td>\n",
       "      <td>52.730034</td>\n",
       "      <td>...</td>\n",
       "      <td>2</td>\n",
       "      <td>13.5</td>\n",
       "      <td>1.0</td>\n",
       "      <td>0.5</td>\n",
       "      <td>0.00</td>\n",
       "      <td>0.0</td>\n",
       "      <td>0.3</td>\n",
       "      <td>15.30</td>\n",
       "      <td>0.0</td>\n",
       "      <td>0.0</td>\n",
       "    </tr>\n",
       "    <tr>\n",
       "      <th>2834262</th>\n",
       "      <td>2021-06-15 18:57:43</td>\n",
       "      <td>2021-06-15 19:06:55</td>\n",
       "      <td>1.0</td>\n",
       "      <td>1.40</td>\n",
       "      <td>9.20</td>\n",
       "      <td>9.13</td>\n",
       "      <td>N</td>\n",
       "      <td>52.730034</td>\n",
       "      <td>-8.739338</td>\n",
       "      <td>52.730034</td>\n",
       "      <td>...</td>\n",
       "      <td>1</td>\n",
       "      <td>8.0</td>\n",
       "      <td>1.0</td>\n",
       "      <td>0.5</td>\n",
       "      <td>2.45</td>\n",
       "      <td>0.0</td>\n",
       "      <td>0.3</td>\n",
       "      <td>12.25</td>\n",
       "      <td>0.0</td>\n",
       "      <td>0.0</td>\n",
       "    </tr>\n",
       "    <tr>\n",
       "      <th>2834263</th>\n",
       "      <td>2021-06-15 19:30:54</td>\n",
       "      <td>2021-06-15 19:37:41</td>\n",
       "      <td>1.0</td>\n",
       "      <td>1.20</td>\n",
       "      <td>6.78</td>\n",
       "      <td>10.62</td>\n",
       "      <td>N</td>\n",
       "      <td>52.730034</td>\n",
       "      <td>-8.739338</td>\n",
       "      <td>52.730034</td>\n",
       "      <td>...</td>\n",
       "      <td>1</td>\n",
       "      <td>6.5</td>\n",
       "      <td>1.0</td>\n",
       "      <td>0.5</td>\n",
       "      <td>1.65</td>\n",
       "      <td>0.0</td>\n",
       "      <td>0.3</td>\n",
       "      <td>9.95</td>\n",
       "      <td>0.0</td>\n",
       "      <td>0.0</td>\n",
       "    </tr>\n",
       "  </tbody>\n",
       "</table>\n",
       "<p>2680533 rows × 21 columns</p>\n",
       "</div>"
      ],
      "text/plain": [
       "        tpep_pickup_datetime tpep_dropoff_datetime  passenger_count  \\\n",
       "0        2021-06-01 00:13:26   2021-06-01 00:17:14              1.0   \n",
       "1        2021-05-31 23:57:36   2021-06-01 00:04:02              5.0   \n",
       "2        2021-06-01 00:12:30   2021-06-01 00:16:25              2.0   \n",
       "3        2021-06-01 00:35:02   2021-06-01 00:41:52              2.0   \n",
       "4        2021-06-01 01:22:44   2021-06-01 01:28:20              1.0   \n",
       "...                      ...                   ...              ...   \n",
       "2834259  2021-06-12 17:58:58   2021-06-12 18:05:26              1.0   \n",
       "2834260  2021-06-15 18:23:17   2021-06-15 18:32:48              1.0   \n",
       "2834261  2021-06-15 18:37:40   2021-06-15 18:52:56              1.0   \n",
       "2834262  2021-06-15 18:57:43   2021-06-15 19:06:55              1.0   \n",
       "2834263  2021-06-15 19:30:54   2021-06-15 19:37:41              1.0   \n",
       "\n",
       "         trip_distance  time_taken  speed(miles/hours) store_and_fwd_flag  \\\n",
       "0                 0.90        3.80               14.21                  N   \n",
       "1                 1.85        6.43               17.26                  N   \n",
       "2                 0.90        3.92               13.78                  N   \n",
       "3                 1.66        6.83               14.58                  N   \n",
       "4                 1.90        5.60               20.36                  N   \n",
       "...                ...         ...                 ...                ...   \n",
       "2834259           1.22        6.47               11.31                  N   \n",
       "2834260           1.60        9.52               10.08                  N   \n",
       "2834261           3.00       15.27               11.79                  N   \n",
       "2834262           1.40        9.20                9.13                  N   \n",
       "2834263           1.20        6.78               10.62                  N   \n",
       "\n",
       "         PUlatitude  PUlongitude  DOlatitude  ...  payment_type  fare_amount  \\\n",
       "0         36.262400   -86.713710  -28.606360  ...             1          5.0   \n",
       "1         36.262400   -86.713710  -28.606360  ...             1          7.5   \n",
       "2         36.262400   -86.713710  -28.606360  ...             1          5.0   \n",
       "3         36.262400   -86.713710  -28.606360  ...             1          7.5   \n",
       "4         36.262400   -86.713710  -28.606360  ...             1          7.5   \n",
       "...             ...          ...         ...  ...           ...          ...   \n",
       "2834259   40.716260   -74.012580   52.730034  ...             2          6.5   \n",
       "2834260   37.791200  -122.401000   52.730034  ...             1          9.0   \n",
       "2834261   52.730034    -8.739338   52.730034  ...             2         13.5   \n",
       "2834262   52.730034    -8.739338   52.730034  ...             1          8.0   \n",
       "2834263   52.730034    -8.739338   52.730034  ...             1          6.5   \n",
       "\n",
       "         extra  mta_tax  tip_amount  tolls_amount  improvement_surcharge  \\\n",
       "0          3.0      0.5        2.20           0.0                    0.3   \n",
       "1          0.5      0.5        2.82           0.0                    0.3   \n",
       "2          3.0      0.5        2.60           0.0                    0.3   \n",
       "3          0.5      0.5        0.00           0.0                    0.3   \n",
       "4          3.0      0.5        2.25           0.0                    0.3   \n",
       "...        ...      ...         ...           ...                    ...   \n",
       "2834259    0.0      0.5        0.00           0.0                    0.3   \n",
       "2834260    3.5      0.5        3.30           0.0                    0.3   \n",
       "2834261    1.0      0.5        0.00           0.0                    0.3   \n",
       "2834262    1.0      0.5        2.45           0.0                    0.3   \n",
       "2834263    1.0      0.5        1.65           0.0                    0.3   \n",
       "\n",
       "         total_amount  congestion_surcharge  airport_fee  \n",
       "0               11.00                   2.5          0.0  \n",
       "1               14.12                   2.5          0.0  \n",
       "2               11.40                   2.5          0.0  \n",
       "3               11.30                   2.5          0.0  \n",
       "4               13.55                   2.5          0.0  \n",
       "...               ...                   ...          ...  \n",
       "2834259          9.80                   2.5          0.0  \n",
       "2834260         16.60                   2.5          0.0  \n",
       "2834261         15.30                   0.0          0.0  \n",
       "2834262         12.25                   0.0          0.0  \n",
       "2834263          9.95                   0.0          0.0  \n",
       "\n",
       "[2680533 rows x 21 columns]"
      ]
     },
     "execution_count": 92,
     "metadata": {},
     "output_type": "execute_result"
    }
   ],
   "source": [
    "data_2021_06"
   ]
  },
  {
   "cell_type": "code",
   "execution_count": 94,
   "metadata": {},
   "outputs": [],
   "source": [
    "#Deleting pickups / dropoff out of NYC\n",
    "data_2021_06 = data_2021_06[(((data_2021_06.PUlatitude >= 40.5774) & (data_2021_06.PUlatitude <= 40.9176)) & ((data_2021_06.PUlongitude >= -74.15) & (data_2021_06.PUlongitude <= -73.7004)))]\n",
    "data_2021_06 = data_2021_06[(((data_2021_06.DOlatitude >= 40.5774) & (data_2021_06.DOlatitude <= 40.9176)) & ((data_2021_06.DOlongitude >= -74.15) & (data_2021_06.DOlongitude <= -73.7004)))]"
   ]
  },
  {
   "cell_type": "code",
   "execution_count": 97,
   "metadata": {},
   "outputs": [
    {
     "name": "stdout",
     "output_type": "stream",
     "text": [
      "On choosing a cluster size of  10 \n",
      "Avg. Number of Clusters within the vicinity (i.e. intercluster-distance < 2): 2.0 \n",
      "Avg. Number of Clusters outside the vicinity (i.e. intercluster-distance > 2): 8.0 \n",
      "Min inter-cluster distance =  1.0886603892164801 \n",
      "Min inter-cluster distance in percentage=  20.0 \n",
      "Min outer--cluster distance in percentage=  80.0 \n",
      "---\n",
      "On choosing a cluster size of  20 \n",
      "Avg. Number of Clusters within the vicinity (i.e. intercluster-distance < 2): 3.0 \n",
      "Avg. Number of Clusters outside the vicinity (i.e. intercluster-distance > 2): 17.0 \n",
      "Min inter-cluster distance =  0.6115650635383836 \n",
      "Min inter-cluster distance in percentage=  15.0 \n",
      "Min outer--cluster distance in percentage=  85.0 \n",
      "---\n",
      "On choosing a cluster size of  30 \n",
      "Avg. Number of Clusters within the vicinity (i.e. intercluster-distance < 2): 5.0 \n",
      "Avg. Number of Clusters outside the vicinity (i.e. intercluster-distance > 2): 25.0 \n",
      "Min inter-cluster distance =  2.260066367496277e-09 \n",
      "Min inter-cluster distance in percentage=  16.666666666666664 \n",
      "Min outer--cluster distance in percentage=  83.33333333333334 \n",
      "---\n",
      "On choosing a cluster size of  40 \n",
      "Avg. Number of Clusters within the vicinity (i.e. intercluster-distance < 2): 6.0 \n",
      "Avg. Number of Clusters outside the vicinity (i.e. intercluster-distance > 2): 34.0 \n",
      "Min inter-cluster distance =  1.0680257914035238e-09 \n",
      "Min inter-cluster distance in percentage=  15.0 \n",
      "Min outer--cluster distance in percentage=  85.0 \n",
      "---\n",
      "On choosing a cluster size of  50 \n",
      "Avg. Number of Clusters within the vicinity (i.e. intercluster-distance < 2): 9.0 \n",
      "Avg. Number of Clusters outside the vicinity (i.e. intercluster-distance > 2): 41.0 \n",
      "Min inter-cluster distance =  2.3934286078906385e-11 \n",
      "Min inter-cluster distance in percentage=  18.0 \n",
      "Min outer--cluster distance in percentage=  82.0 \n",
      "---\n",
      "On choosing a cluster size of  60 \n",
      "Avg. Number of Clusters within the vicinity (i.e. intercluster-distance < 2): 14.0 \n",
      "Avg. Number of Clusters outside the vicinity (i.e. intercluster-distance > 2): 46.0 \n",
      "Min inter-cluster distance =  1.8694871782378672e-11 \n",
      "Min inter-cluster distance in percentage=  23.333333333333332 \n",
      "Min outer--cluster distance in percentage=  76.66666666666667 \n",
      "---\n",
      "On choosing a cluster size of  70 \n",
      "Avg. Number of Clusters within the vicinity (i.e. intercluster-distance < 2): 18.0 \n",
      "Avg. Number of Clusters outside the vicinity (i.e. intercluster-distance > 2): 52.0 \n",
      "Min inter-cluster distance =  1.3200109147129176e-12 \n",
      "Min inter-cluster distance in percentage=  25.71428571428571 \n",
      "Min outer--cluster distance in percentage=  74.28571428571429 \n",
      "---\n",
      "On choosing a cluster size of  80 \n",
      "Avg. Number of Clusters within the vicinity (i.e. intercluster-distance < 2): 20.0 \n",
      "Avg. Number of Clusters outside the vicinity (i.e. intercluster-distance > 2): 60.0 \n",
      "Min inter-cluster distance =  1.7600145529505568e-12 \n",
      "Min inter-cluster distance in percentage=  25.0 \n",
      "Min outer--cluster distance in percentage=  75.0 \n",
      "---\n",
      "On choosing a cluster size of  90 \n",
      "Avg. Number of Clusters within the vicinity (i.e. intercluster-distance < 2): 25.0 \n",
      "Avg. Number of Clusters outside the vicinity (i.e. intercluster-distance > 2): 65.0 \n",
      "Min inter-cluster distance =  1.3200109147129176e-12 \n",
      "Min inter-cluster distance in percentage=  27.77777777777778 \n",
      "Min outer--cluster distance in percentage=  72.22222222222221 \n",
      "---\n"
     ]
    }
   ],
   "source": [
    "coords = data_2021_06[['PUlatitude', 'PUlongitude']].values\n",
    "neighbours = []\n",
    "\n",
    "def find_min_distance(cluster_centre, cluster_len):\n",
    "    best_point = 0\n",
    "    worst_point = 0\n",
    "    more = []\n",
    "    less = []\n",
    "    min_dist = 1000\n",
    "    for i in range(0,cluster_len):\n",
    "        best_point = 0\n",
    "        worst_point = 0\n",
    "        for j in range(0,cluster_len):\n",
    "            if j!=i:\n",
    "                distance = gpxpy.geo.haversine_distance(cluster_centre[i][0], cluster_centre[i][1],cluster_centre[j][0], cluster_centre[j][1])\n",
    "                min_dist = min(min_dist,distance/(1.60934*1000))\n",
    "                if (distance/(1.60934*1000)) <= 2:\n",
    "                    best_point +=1\n",
    "                else:\n",
    "                    worst_point += 1\n",
    "        less.append(best_point)\n",
    "        more.append(worst_point)\n",
    "    neighbours.append(less)\n",
    "    print (\"On choosing a cluster size of \",cluster_len,\"\\nAvg. Number of Clusters within the vicinity (i.e. intercluster-distance < 2):\", np.ceil(sum(less)/len(less)),\n",
    "           \"\\nAvg. Number of Clusters outside the vicinity (i.e. intercluster-distance > 2):\", np.ceil(sum(more)/len(more)),\n",
    "           \"\\nMin inter-cluster distance = \",min_dist,\n",
    "           \"\\nMin inter-cluster distance in percentage= \",((np.ceil(sum(less)/len(less)))/cluster_len)*100,\n",
    "           \"\\nMin outer--cluster distance in percentage= \",((np.ceil(sum(more)/len(more)))/cluster_len)*100,\n",
    "           \"\\n---\")\n",
    "def find_cluster(increment):\n",
    "    kmeans = MiniBatchKMeans(n_clusters=increment, batch_size=10000, random_state=42).fit(coords)\n",
    "    data_2021_06['pickup_cluster'] = kmeans.predict(data_2021_06[['PUlatitude', 'PUlongitude']])\n",
    "    cluster_centre = kmeans.cluster_centers_\n",
    "    cluster_len = len(cluster_centre)\n",
    "    return cluster_centre, cluster_len\n",
    "for increment in range(10, 100, 10):\n",
    "    cluster_centre, cluster_len = find_cluster(increment)\n",
    "    find_min_distance(cluster_centre, cluster_len) "
   ]
  },
  {
   "cell_type": "code",
   "execution_count": 128,
   "metadata": {},
   "outputs": [],
   "source": [
    "wcss = []\n",
    "for i in range(10,100,5):\n",
    "    kmeans = MiniBatchKMeans(n_clusters=i, batch_size=10000, random_state=42)\n",
    "    kmeans.fit(coords)\n",
    "    wcss.append(kmeans.inertia_)"
   ]
  },
  {
   "cell_type": "code",
   "execution_count": 127,
   "metadata": {},
   "outputs": [
    {
     "data": {
      "image/png": "[encoded data removed]",
      "text/plain": [
       "<Figure size 640x480 with 1 Axes>"
      ]
     },
     "metadata": {},
     "output_type": "display_data"
    }
   ],
   "source": [
    "plt.plot(range(10,100,5), wcss, marker = 'o', linestyle='-.',color='black')\n",
    "plt.xlabel(\"No. of Cluster\")\n",
    "plt.ylabel(\"WCSS\")\n",
    "plt.title(\"K-Means Clustering\")\n",
    "plt.show()"
   ]
  },
  {
   "cell_type": "code",
   "execution_count": 140,
   "metadata": {},
   "outputs": [],
   "source": [
    "kmeans = MiniBatchKMeans(n_clusters=25, batch_size=10000,random_state=0).fit(coords)\n",
    "data_2021_06['pickup_cluster'] = kmeans.predict(data_2021_06[['PUlatitude', 'PUlongitude']])"
   ]
  },
  {
   "cell_type": "code",
   "execution_count": 145,
   "metadata": {},
   "outputs": [],
   "source": [
    "#Grouping the mounthly data by region\n",
    "data_2021_06.rename(columns={'tpep_pickup_datetime':'time','trip_distance':'demand',},inplace=True)\n",
    "data_2021_06['time'] = pd.to_datetime(data_2021_06['time'])\n",
    "grouped_data_2021_06 = data_2021_06[[\"pickup_cluster\", \"time\", \"demand\"]].groupby(by = [\"pickup_cluster\", \"time\"]).count()"
   ]
  },
  {
   "cell_type": "code",
   "execution_count": 168,
   "metadata": {},
   "outputs": [],
   "source": [
    "#Cluster example\n",
    "cluster = grouped_data_2021_06.loc[0]\n",
    "#Resampling Data in region j into one hour step\n",
    "cluster = cluster.resample('1h').sum() \n",
    "#Feature Engineering\n",
    "cluster['Date time'] = cluster.index\n",
    "cluster['Date time'] = pd.to_datetime(cluster['Date time'].dt.strftime('%Y-%m-%d %H'))\n",
    "cluster['hour']=cluster['Date time'].dt.hour \n",
    "cluster['day']=cluster['Date time'].dt.day\n",
    "cluster['dayofweek']=cluster['Date time'].dt.dayofweek  "
   ]
  },
  {
   "cell_type": "code",
   "execution_count": 171,
   "metadata": {},
   "outputs": [
    {
     "data": {
      "text/html": [
       "<div>\n",
       "<style scoped>\n",
       "    .dataframe tbody tr th:only-of-type {\n",
       "        vertical-align: middle;\n",
       "    }\n",
       "\n",
       "    .dataframe tbody tr th {\n",
       "        vertical-align: top;\n",
       "    }\n",
       "\n",
       "    .dataframe thead th {\n",
       "        text-align: right;\n",
       "    }\n",
       "</style>\n",
       "<table border=\"1\" class=\"dataframe\">\n",
       "  <thead>\n",
       "    <tr style=\"text-align: right;\">\n",
       "      <th></th>\n",
       "      <th>demand</th>\n",
       "      <th>Date time</th>\n",
       "      <th>hour</th>\n",
       "      <th>day</th>\n",
       "      <th>dayofweek</th>\n",
       "    </tr>\n",
       "    <tr>\n",
       "      <th>time</th>\n",
       "      <th></th>\n",
       "      <th></th>\n",
       "      <th></th>\n",
       "      <th></th>\n",
       "      <th></th>\n",
       "    </tr>\n",
       "  </thead>\n",
       "  <tbody>\n",
       "    <tr>\n",
       "      <th>2021-06-01 00:00:00</th>\n",
       "      <td>2</td>\n",
       "      <td>2021-06-01 00:00:00</td>\n",
       "      <td>0</td>\n",
       "      <td>1</td>\n",
       "      <td>1</td>\n",
       "    </tr>\n",
       "    <tr>\n",
       "      <th>2021-06-01 01:00:00</th>\n",
       "      <td>0</td>\n",
       "      <td>2021-06-01 01:00:00</td>\n",
       "      <td>1</td>\n",
       "      <td>1</td>\n",
       "      <td>1</td>\n",
       "    </tr>\n",
       "    <tr>\n",
       "      <th>2021-06-01 02:00:00</th>\n",
       "      <td>0</td>\n",
       "      <td>2021-06-01 02:00:00</td>\n",
       "      <td>2</td>\n",
       "      <td>1</td>\n",
       "      <td>1</td>\n",
       "    </tr>\n",
       "    <tr>\n",
       "      <th>2021-06-01 03:00:00</th>\n",
       "      <td>0</td>\n",
       "      <td>2021-06-01 03:00:00</td>\n",
       "      <td>3</td>\n",
       "      <td>1</td>\n",
       "      <td>1</td>\n",
       "    </tr>\n",
       "    <tr>\n",
       "      <th>2021-06-01 04:00:00</th>\n",
       "      <td>1</td>\n",
       "      <td>2021-06-01 04:00:00</td>\n",
       "      <td>4</td>\n",
       "      <td>1</td>\n",
       "      <td>1</td>\n",
       "    </tr>\n",
       "    <tr>\n",
       "      <th>2021-06-01 05:00:00</th>\n",
       "      <td>1</td>\n",
       "      <td>2021-06-01 05:00:00</td>\n",
       "      <td>5</td>\n",
       "      <td>1</td>\n",
       "      <td>1</td>\n",
       "    </tr>\n",
       "    <tr>\n",
       "      <th>2021-06-01 06:00:00</th>\n",
       "      <td>6</td>\n",
       "      <td>2021-06-01 06:00:00</td>\n",
       "      <td>6</td>\n",
       "      <td>1</td>\n",
       "      <td>1</td>\n",
       "    </tr>\n",
       "    <tr>\n",
       "      <th>2021-06-01 07:00:00</th>\n",
       "      <td>10</td>\n",
       "      <td>2021-06-01 07:00:00</td>\n",
       "      <td>7</td>\n",
       "      <td>1</td>\n",
       "      <td>1</td>\n",
       "    </tr>\n",
       "    <tr>\n",
       "      <th>2021-06-01 08:00:00</th>\n",
       "      <td>28</td>\n",
       "      <td>2021-06-01 08:00:00</td>\n",
       "      <td>8</td>\n",
       "      <td>1</td>\n",
       "      <td>1</td>\n",
       "    </tr>\n",
       "    <tr>\n",
       "      <th>2021-06-01 09:00:00</th>\n",
       "      <td>36</td>\n",
       "      <td>2021-06-01 09:00:00</td>\n",
       "      <td>9</td>\n",
       "      <td>1</td>\n",
       "      <td>1</td>\n",
       "    </tr>\n",
       "  </tbody>\n",
       "</table>\n",
       "</div>"
      ],
      "text/plain": [
       "                     demand           Date time  hour  day  dayofweek\n",
       "time                                                                 \n",
       "2021-06-01 00:00:00       2 2021-06-01 00:00:00     0    1          1\n",
       "2021-06-01 01:00:00       0 2021-06-01 01:00:00     1    1          1\n",
       "2021-06-01 02:00:00       0 2021-06-01 02:00:00     2    1          1\n",
       "2021-06-01 03:00:00       0 2021-06-01 03:00:00     3    1          1\n",
       "2021-06-01 04:00:00       1 2021-06-01 04:00:00     4    1          1\n",
       "2021-06-01 05:00:00       1 2021-06-01 05:00:00     5    1          1\n",
       "2021-06-01 06:00:00       6 2021-06-01 06:00:00     6    1          1\n",
       "2021-06-01 07:00:00      10 2021-06-01 07:00:00     7    1          1\n",
       "2021-06-01 08:00:00      28 2021-06-01 08:00:00     8    1          1\n",
       "2021-06-01 09:00:00      36 2021-06-01 09:00:00     9    1          1"
      ]
     },
     "execution_count": 171,
     "metadata": {},
     "output_type": "execute_result"
    }
   ],
   "source": [
    "cluster.head(10)"
   ]
  },
  {
   "cell_type": "code",
   "execution_count": 163,
   "metadata": {},
   "outputs": [
    {
     "data": {
      "image/png": "[encoded data removed]",
      "text/plain": [
       "<Figure size 640x480 with 1 Axes>"
      ]
     },
     "metadata": {},
     "output_type": "display_data"
    }
   ],
   "source": [
    "city_long_border = (-74.03, -73.75)\n",
    "city_lat_border = (40.63, 40.85)\n",
    "fig, ax = plt.subplots(ncols=1, nrows=1)\n",
    "ax.scatter(data_2021_06.PUlongitude.values[:100000], data_2021_06.PUlatitude.values[:100000],\n",
    "            c=data_2021_06.pickup_cluster.values[:100000],cmap='Paired', alpha=0.2)\n",
    "# ax.scatter(cluster_centers[0],cluster_centers[1])\n",
    "\n",
    "ax.set_xlabel('Longitude')\n",
    "ax.set_ylabel('Latitude')\n",
    "plt.show()"
   ]
  },
  {
   "cell_type": "code",
   "execution_count": null,
   "metadata": {},
   "outputs": [],
   "source": [
    "cluster_centers = kmeans.cluster_centers_\n",
    "cluster_len = len(cluster_centers)\n",
    "map_osm = folium.Map(location=[40.734695, -73.990372], tiles='Stamen Toner')\n",
    "for i in range(cluster_len):\n",
    "    folium.Marker(list((cluster_centers[i][0],cluster_centers[i][1])), popup=(str(cluster_centers[i][0])+str(cluster_centers[i][1]))).add_to(map_osm)\n",
    "map_osm"
   ]
  },
  {
   "cell_type": "markdown",
   "metadata": {},
   "source": [
    "## Timing binning"
   ]
  },
  {
   "cell_type": "code",
   "execution_count": null,
   "metadata": {},
   "outputs": [],
   "source": [
    "interrupt"
   ]
  },
  {
   "cell_type": "code",
   "execution_count": null,
   "metadata": {},
   "outputs": [],
   "source": []
  },
  {
   "cell_type": "code",
   "execution_count": null,
   "metadata": {},
   "outputs": [],
   "source": []
  },
  {
   "cell_type": "code",
   "execution_count": null,
   "metadata": {},
   "outputs": [],
   "source": [
    "def time_binninig(df):\n",
    "    x = df[((df.DOlongitude >= -74.15) & (df.DOlongitude <= -73.7004) &\\\n",
    "                       (df.DOlatitude >= 40.5774) & (df.DOlatitude <= 40.9176)) & \\\n",
    "                       ((df.PUlongitude >= -74.15) & (df.PUlatitude >= 40.5774)& \\\n",
    "                       (df.PUlongitude <= -73.7004) & (df.PUlatitude <= 40.9176))]\n",
    "    return x"
   ]
  },
  {
   "cell_type": "code",
   "execution_count": null,
   "metadata": {},
   "outputs": [],
   "source": [
    "data_2021_06 = time_binninig (data_2021_06) \n",
    "data_2021_07 = time_binninig (data_2021_07)\n",
    "data_2021_08 = time_binninig (data_2021_08)\n",
    "data_2022_06 = time_binninig (data_2022_06)\n",
    "data_2022_07 = time_binninig (data_2022_07)\n",
    "data_2022_08 = time_binninig (data_2022_08)"
   ]
  },
  {
   "cell_type": "code",
   "execution_count": null,
   "metadata": {},
   "outputs": [],
   "source": []
  },
  {
   "cell_type": "code",
   "execution_count": null,
   "metadata": {},
   "outputs": [],
   "source": [
    "from sklearn.cluster import MiniBatchKMeans\n",
    "from sklearn.cluster import KMeans"
   ]
  },
  {
   "cell_type": "code",
   "execution_count": null,
   "metadata": {},
   "outputs": [],
   "source": [
    "coords = data_2021_06[['PUlatitude', 'PUlongitude']]\n",
    "\n",
    "wcss = [] \n",
    "for i in range(1, 100,5): \n",
    "    kmeans = MiniBatchKMeans(n_clusters = i, init = 'k-means++', random_state = 42)\n",
    "    kmeans.fit(coords) \n",
    "    wcss.append(kmeans.inertia_)\n",
    "plt.plot(range(1, 100, 5), wcss) \n",
    "plt.xlabel('Number of clusters')\n",
    "plt.ylabel('WCSS') \n",
    "plt.show()"
   ]
  },
  {
   "cell_type": "code",
   "execution_count": null,
   "metadata": {},
   "outputs": [],
   "source": [
    "kmeans = MiniBatchKMeans(n_clusters=50, batch_size=10000,random_state=0).fit(coords)\n",
    "data_2021_06['pickup_cluster'] = kmeans.predict(data_2021_06[['PUlatitude', 'PUlongitude']])"
   ]
  },
  {
   "cell_type": "code",
   "execution_count": null,
   "metadata": {},
   "outputs": [],
   "source": []
  },
  {
   "cell_type": "code",
   "execution_count": null,
   "metadata": {},
   "outputs": [],
   "source": [
    "time_bin = data_2021_06[['tpep_pickup_datetime', 'tpep_dropoff_datetime', 'passenger_count',\n",
    "       'trip_distance', 'time_taken', 'speed(miles/hours)', 'PUlatitude',\n",
    "       'PUlongitude', 'DOlatitude', 'DOlongitude', 'pickup_cluster']]"
   ]
  },
  {
   "cell_type": "code",
   "execution_count": null,
   "metadata": {},
   "outputs": [],
   "source": [
    "time_bin['year']  = [x.year for x in time_bin['tpep_pickup_datetime']]"
   ]
  },
  {
   "cell_type": "code",
   "execution_count": null,
   "metadata": {},
   "outputs": [],
   "source": [
    "time_bin = time_bin[time_bin['year'] <= 2022]"
   ]
  },
  {
   "cell_type": "code",
   "execution_count": null,
   "metadata": {},
   "outputs": [],
   "source": [
    "x = pd.to_datetime('2022-06-01 00:00:00') "
   ]
  },
  {
   "cell_type": "code",
   "execution_count": null,
   "metadata": {},
   "outputs": [],
   "source": [
    "time_bin ['time'] = ([(((i-x))) for i in time_bin['tpep_pickup_datetime']])\n"
   ]
  },
  {
   "cell_type": "code",
   "execution_count": null,
   "metadata": {},
   "outputs": [],
   "source": [
    "time_bin['count'] = 1"
   ]
  },
  {
   "cell_type": "code",
   "execution_count": null,
   "metadata": {},
   "outputs": [],
   "source": [
    "time_bin['Hour'] = pd.to_datetime(time_bin['tpep_pickup_datetime']).dt.hour\n",
    "time_bin['Minute'] = pd.to_datetime(time_bin['tpep_pickup_datetime']).dt.minute"
   ]
  },
  {
   "cell_type": "code",
   "execution_count": null,
   "metadata": {},
   "outputs": [],
   "source": [
    "time_bin['day'] = pd.to_datetime(time_bin['tpep_pickup_datetime']).dt.day"
   ]
  },
  {
   "cell_type": "code",
   "execution_count": null,
   "metadata": {},
   "outputs": [],
   "source": [
    "keys = [pair for pair, df in time_bin.groupby(['Hour'])]\n",
    "plt.plot(keys, time_bin.groupby(['Hour']).count()['count'])\n",
    "plt.xticks(keys)\n",
    "plt.grid()\n",
    "plt.show()"
   ]
  },
  {
   "cell_type": "code",
   "execution_count": null,
   "metadata": {},
   "outputs": [],
   "source": [
    "keys = [pair for pair, df in time_bin.groupby(['day'])]\n",
    "plt.plot(keys, time_bin.groupby(['day']).count()['count'])\n",
    "plt.xticks(keys)\n",
    "plt.grid()\n",
    "plt.tight_layout()\n",
    "plt.show()"
   ]
  },
  {
   "cell_type": "code",
   "execution_count": null,
   "metadata": {},
   "outputs": [],
   "source": [
    "import datetime\n",
    "import time"
   ]
  },
  {
   "cell_type": "code",
   "execution_count": null,
   "metadata": {},
   "outputs": [],
   "source": [
    "x = datetime.datetime(2022,6,1,00,0,0)\n",
    "time.mktime(x.timetuple())"
   ]
  },
  {
   "cell_type": "code",
   "execution_count": null,
   "metadata": {},
   "outputs": [],
   "source": [
    "time_bin['tpep_pickup_datetime']"
   ]
  },
  {
   "cell_type": "code",
   "execution_count": null,
   "metadata": {},
   "outputs": [],
   "source": [
    "def convert_to_unix(s):\n",
    "    return time.mktime(datetime.datetime.strptime(str(s), \"%Y-%m-%d %H:%M:%S\").timetuple())"
   ]
  },
  {
   "cell_type": "code",
   "execution_count": null,
   "metadata": {},
   "outputs": [],
   "source": [
    "time_bin['Unit_time'] = ([convert_to_unix(x) for x in time_bin['tpep_pickup_datetime']])"
   ]
  },
  {
   "cell_type": "code",
   "execution_count": null,
   "metadata": {},
   "outputs": [],
   "source": [
    "tenminutewise_binned_unix_pickup_times = [(int((i-1654021800)/600)+33) for i in time_bin['Unit_time']]\n",
    "time_bin['pickup_bins'] = np.array(tenminutewise_binned_unix_pickup_times)"
   ]
  },
  {
   "cell_type": "code",
   "execution_count": null,
   "metadata": {},
   "outputs": [],
   "source": [
    "time_bin"
   ]
  },
  {
   "cell_type": "code",
   "execution_count": null,
   "metadata": {},
   "outputs": [],
   "source": [
    "x = pd.to_datetime('2021-06-01 00:00:00') "
   ]
  },
  {
   "cell_type": "code",
   "execution_count": null,
   "metadata": {},
   "outputs": [],
   "source": [
    "time_bin ['time'] = ([(((i-x))) for i in time_bin['tpep_pickup_datetime']])"
   ]
  },
  {
   "cell_type": "code",
   "execution_count": null,
   "metadata": {},
   "outputs": [],
   "source": [
    "time_bin.head()"
   ]
  },
  {
   "cell_type": "code",
   "execution_count": null,
   "metadata": {},
   "outputs": [],
   "source": [
    "x = datetime.datetime(2021,6,1,00,0,0)\n",
    "time.mktime(x.timetuple())"
   ]
  },
  {
   "cell_type": "code",
   "execution_count": null,
   "metadata": {},
   "outputs": [],
   "source": [
    "tenminutewise_binned_unix_pickup_times = [(int((i-1622485800)/600)+33) for i in time_bin['Unit_time']]\n",
    "time_bin['pickup_bins'] = np.array(tenminutewise_binned_unix_pickup_times)"
   ]
  },
  {
   "cell_type": "code",
   "execution_count": null,
   "metadata": {},
   "outputs": [],
   "source": [
    "time_bin.head()"
   ]
  },
  {
   "cell_type": "code",
   "execution_count": null,
   "metadata": {},
   "outputs": [],
   "source": [
    "june_2021_groupby = time_bin[['pickup_cluster','pickup_bins','trip_distance']].groupby(['pickup_cluster','pickup_bins']).count()"
   ]
  },
  {
   "cell_type": "code",
   "execution_count": null,
   "metadata": {},
   "outputs": [],
   "source": [
    "def return_unq_pickup_bins(frame):\n",
    "    values = []\n",
    "    for i in range(0,40):\n",
    "        new = frame[frame['pickup_cluster'] == i]\n",
    "        list_unq = list(set(new['pickup_bins']))\n",
    "        list_unq.sort()\n",
    "        values.append(list_unq)\n",
    "    return values"
   ]
  },
  {
   "cell_type": "code",
   "execution_count": null,
   "metadata": {},
   "outputs": [],
   "source": [
    "june_2021_unique = return_unq_pickup_bins(time_bin)"
   ]
  },
  {
   "cell_type": "code",
   "execution_count": null,
   "metadata": {},
   "outputs": [],
   "source": [
    "for i in range(40):\n",
    "    print(\"for the \",i,\"th cluster number of 10min intavels with zero pickups: \",4162 - len(set(june_2021_unique[i])))\n",
    "    print('-'*60)"
   ]
  },
  {
   "cell_type": "code",
   "execution_count": null,
   "metadata": {},
   "outputs": [],
   "source": [
    "#Visualising the clusters on a map\n",
    "def plot_clusters(frame):\n",
    "    city_long_border = (-74.03, -73.75)\n",
    "    city_lat_border = (40.63, 40.85)\n",
    "    fig, ax = plt.subplots(ncols=1, nrows=1)\n",
    "    ax.scatter(frame.PUlatitude.values[:100000], frame.PUlatitude.values[:100000], s=10, lw=0,\n",
    "               c=frame.pickup_cluster.values[:100000], cmap='tab20', alpha=0.2)\n",
    "    ax.set_xlim(city_long_border)\n",
    "    ax.set_ylim(city_lat_border)\n",
    "    ax.set_xlabel('Longitude')\n",
    "    ax.set_ylabel('Latitude')\n",
    "    plt.show()\n",
    "\n",
    "plot_clusters(time_bin)"
   ]
  },
  {
   "cell_type": "code",
   "execution_count": null,
   "metadata": {},
   "outputs": [],
   "source": []
  }
 ],
 "metadata": {
  "colab": {
   "collapsed_sections": [],
   "provenance": []
  },
  "kernelspec": {
   "display_name": "Python 3 (ipykernel)",
   "language": "python",
   "name": "python3"
  },
  "language_info": {
   "codemirror_mode": {
    "name": "ipython",
    "version": 3
   },
   "file_extension": ".py",
   "mimetype": "text/x-python",
   "name": "python",
   "nbconvert_exporter": "python",
   "pygments_lexer": "ipython3",
   "version": "3.9.0"
  },
  "toc-autonumbering": false,
  "toc-showmarkdowntxt": false,
  "vscode": {
   "interpreter": {
    "hash": "85d74e80522b561983658e54effcc69f86c93109b37d08010a4f48fac8fd2810"
   }
  }
 },
 "nbformat": 4,
 "nbformat_minor": 4
}
